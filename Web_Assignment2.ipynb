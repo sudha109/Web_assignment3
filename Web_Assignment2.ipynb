{
 "cells": [
  {
   "cell_type": "code",
   "execution_count": 1,
   "metadata": {},
   "outputs": [],
   "source": [
    "import selenium\n",
    "import pandas as pd\n",
    "from selenium import webdriver"
   ]
  },
  {
   "cell_type": "markdown",
   "metadata": {},
   "source": [
    "### 1. Program to scrape data for “Data Analyst” Job position in “Bangalore” location. You have to scrape the job-title, job-location, company_name, experience_required"
   ]
  },
  {
   "cell_type": "code",
   "execution_count": 2,
   "metadata": {},
   "outputs": [],
   "source": [
    "driver=webdriver.Chrome(r\"C:\\Users\\eshan\\Downloads\\chromedriver_win32\\chromedriver.exe\")"
   ]
  },
  {
   "cell_type": "code",
   "execution_count": 3,
   "metadata": {},
   "outputs": [],
   "source": [
    "url=\"https://www.naukri.com/data-analyst-jobs-in-bangalore?k=data%20analyst&l=bangalore\""
   ]
  },
  {
   "cell_type": "code",
   "execution_count": 4,
   "metadata": {},
   "outputs": [],
   "source": [
    "driver.get(url)"
   ]
  },
  {
   "cell_type": "code",
   "execution_count": 5,
   "metadata": {},
   "outputs": [],
   "source": [
    "job_listings=[]\n",
    "company_name=[]\n",
    "experience=[]\n",
    "salary=[]\n"
   ]
  },
  {
   "cell_type": "code",
   "execution_count": 6,
   "metadata": {},
   "outputs": [],
   "source": [
    "job=driver.find_elements_by_xpath(\"//a[@class='title fw500 ellipsis']\")"
   ]
  },
  {
   "cell_type": "code",
   "execution_count": 7,
   "metadata": {},
   "outputs": [],
   "source": [
    "for i in job:\n",
    "    job_list=i.text\n",
    "    job_listings.append(job_list)"
   ]
  },
  {
   "cell_type": "code",
   "execution_count": 8,
   "metadata": {},
   "outputs": [],
   "source": [
    "com=driver.find_elements_by_xpath(\"//a[@class='subTitle ellipsis fleft']\")\n"
   ]
  },
  {
   "cell_type": "code",
   "execution_count": 9,
   "metadata": {},
   "outputs": [],
   "source": [
    "for i in com:\n",
    "    comp=i.text\n",
    "    company_name.append(comp)"
   ]
  },
  {
   "cell_type": "code",
   "execution_count": 10,
   "metadata": {},
   "outputs": [],
   "source": [
    "exp=driver.find_elements_by_xpath(\"//li[@class='fleft grey-text br2 placeHolderLi experience']//span\")"
   ]
  },
  {
   "cell_type": "code",
   "execution_count": 11,
   "metadata": {},
   "outputs": [],
   "source": [
    "for i in exp:\n",
    "    expe=i.text\n",
    "    experience.append(expe)"
   ]
  },
  {
   "cell_type": "code",
   "execution_count": 12,
   "metadata": {},
   "outputs": [],
   "source": [
    "sal=driver.find_elements_by_xpath(\"//li[@class='fleft grey-text br2 placeHolderLi salary']//span\")\n"
   ]
  },
  {
   "cell_type": "code",
   "execution_count": 13,
   "metadata": {},
   "outputs": [],
   "source": [
    "for i in sal:\n",
    "    saly=i.text\n",
    "    salary.append(saly)"
   ]
  },
  {
   "cell_type": "code",
   "execution_count": 14,
   "metadata": {},
   "outputs": [],
   "source": [
    "result=pd.DataFrame({})\n",
    "result['job_listings']=job_listings\n",
    "result['company_name']=company_name\n",
    "result['experience']=experience\n",
    "result['salary']=salary"
   ]
  },
  {
   "cell_type": "code",
   "execution_count": 15,
   "metadata": {},
   "outputs": [
    {
     "data": {
      "text/html": [
       "<div>\n",
       "<style scoped>\n",
       "    .dataframe tbody tr th:only-of-type {\n",
       "        vertical-align: middle;\n",
       "    }\n",
       "\n",
       "    .dataframe tbody tr th {\n",
       "        vertical-align: top;\n",
       "    }\n",
       "\n",
       "    .dataframe thead th {\n",
       "        text-align: right;\n",
       "    }\n",
       "</style>\n",
       "<table border=\"1\" class=\"dataframe\">\n",
       "  <thead>\n",
       "    <tr style=\"text-align: right;\">\n",
       "      <th></th>\n",
       "      <th>job_listings</th>\n",
       "      <th>company_name</th>\n",
       "      <th>experience</th>\n",
       "      <th>salary</th>\n",
       "    </tr>\n",
       "  </thead>\n",
       "  <tbody>\n",
       "    <tr>\n",
       "      <th>0</th>\n",
       "      <td>Fresher Data Engineer / Data Scientist / Data ...</td>\n",
       "      <td>ACHYUTAS SOFT PRIVATE LIMITED</td>\n",
       "      <td>0-2 Yrs</td>\n",
       "      <td>3,50,000 - 8,50,000 PA.</td>\n",
       "    </tr>\n",
       "    <tr>\n",
       "      <th>1</th>\n",
       "      <td>Immediate opening For Data Scientist/Data Analyst</td>\n",
       "      <td>CAIA-Center For Artificial Intelligence &amp; Adva...</td>\n",
       "      <td>0-3 Yrs</td>\n",
       "      <td>3,50,000 - 4,50,000 PA.</td>\n",
       "    </tr>\n",
       "    <tr>\n",
       "      <th>2</th>\n",
       "      <td>SAS AML Data Analyst / Trainee &amp; Data Science,...</td>\n",
       "      <td>MagicBase Royal BD Pvt Ltd</td>\n",
       "      <td>0-5 Yrs</td>\n",
       "      <td>50,000 - 2,00,000 PA.</td>\n",
       "    </tr>\n",
       "    <tr>\n",
       "      <th>3</th>\n",
       "      <td>Hiring Data Analysts</td>\n",
       "      <td>Flipkart Internet Private Limited</td>\n",
       "      <td>2-5 Yrs</td>\n",
       "      <td>2,50,000 - 5,50,000 PA.</td>\n",
       "    </tr>\n",
       "    <tr>\n",
       "      <th>4</th>\n",
       "      <td>Data Analyst</td>\n",
       "      <td>Cognizant Technology Solutions India Ltd</td>\n",
       "      <td>3-4 Yrs</td>\n",
       "      <td>Not disclosed</td>\n",
       "    </tr>\n",
       "    <tr>\n",
       "      <th>5</th>\n",
       "      <td>Data Analyst</td>\n",
       "      <td>Cognizant Technology Solutions India Ltd</td>\n",
       "      <td>2-3 Yrs</td>\n",
       "      <td>Not disclosed</td>\n",
       "    </tr>\n",
       "    <tr>\n",
       "      <th>6</th>\n",
       "      <td>Business Data Analyst</td>\n",
       "      <td>GENPACT India Private Limited</td>\n",
       "      <td>3-6 Yrs</td>\n",
       "      <td>7,50,000 - 12,00,000 PA.</td>\n",
       "    </tr>\n",
       "    <tr>\n",
       "      <th>7</th>\n",
       "      <td>Data Analyst ( Predictive Modelling)</td>\n",
       "      <td>AVE-Promagne</td>\n",
       "      <td>2-5 Yrs</td>\n",
       "      <td>Not disclosed</td>\n",
       "    </tr>\n",
       "    <tr>\n",
       "      <th>8</th>\n",
       "      <td>Fresher/Trainee/Internship - Data Analyst/Busi...</td>\n",
       "      <td>IIBM Institute of Business Management</td>\n",
       "      <td>0-5 Yrs</td>\n",
       "      <td>3,00,000 - 4,00,000 PA.</td>\n",
       "    </tr>\n",
       "    <tr>\n",
       "      <th>9</th>\n",
       "      <td>Data Scientist / Data Analyst</td>\n",
       "      <td>Altimetrik India Pvt. Ltd</td>\n",
       "      <td>3-8 Yrs</td>\n",
       "      <td>Not disclosed</td>\n",
       "    </tr>\n",
       "  </tbody>\n",
       "</table>\n",
       "</div>"
      ],
      "text/plain": [
       "                                        job_listings  \\\n",
       "0  Fresher Data Engineer / Data Scientist / Data ...   \n",
       "1  Immediate opening For Data Scientist/Data Analyst   \n",
       "2  SAS AML Data Analyst / Trainee & Data Science,...   \n",
       "3                               Hiring Data Analysts   \n",
       "4                                       Data Analyst   \n",
       "5                                       Data Analyst   \n",
       "6                              Business Data Analyst   \n",
       "7               Data Analyst ( Predictive Modelling)   \n",
       "8  Fresher/Trainee/Internship - Data Analyst/Busi...   \n",
       "9                      Data Scientist / Data Analyst   \n",
       "\n",
       "                                        company_name experience  \\\n",
       "0                      ACHYUTAS SOFT PRIVATE LIMITED    0-2 Yrs   \n",
       "1  CAIA-Center For Artificial Intelligence & Adva...    0-3 Yrs   \n",
       "2                         MagicBase Royal BD Pvt Ltd    0-5 Yrs   \n",
       "3                  Flipkart Internet Private Limited    2-5 Yrs   \n",
       "4           Cognizant Technology Solutions India Ltd    3-4 Yrs   \n",
       "5           Cognizant Technology Solutions India Ltd    2-3 Yrs   \n",
       "6                      GENPACT India Private Limited    3-6 Yrs   \n",
       "7                                       AVE-Promagne    2-5 Yrs   \n",
       "8              IIBM Institute of Business Management    0-5 Yrs   \n",
       "9                          Altimetrik India Pvt. Ltd    3-8 Yrs   \n",
       "\n",
       "                     salary  \n",
       "0   3,50,000 - 8,50,000 PA.  \n",
       "1   3,50,000 - 4,50,000 PA.  \n",
       "2     50,000 - 2,00,000 PA.  \n",
       "3   2,50,000 - 5,50,000 PA.  \n",
       "4             Not disclosed  \n",
       "5             Not disclosed  \n",
       "6  7,50,000 - 12,00,000 PA.  \n",
       "7             Not disclosed  \n",
       "8   3,00,000 - 4,00,000 PA.  \n",
       "9             Not disclosed  "
      ]
     },
     "execution_count": 15,
     "metadata": {},
     "output_type": "execute_result"
    }
   ],
   "source": [
    "result[:10]"
   ]
  },
  {
   "cell_type": "markdown",
   "metadata": {},
   "source": [
    "### 2.Program to scrape data for “Data Scientist” Job position in “Bangalore” location. You have to scrape the job-title, job-location, company_name, full job-description."
   ]
  },
  {
   "cell_type": "code",
   "execution_count": 16,
   "metadata": {},
   "outputs": [],
   "source": [
    "import selenium\n",
    "from selenium import webdriver\n",
    "import pandas as pd "
   ]
  },
  {
   "cell_type": "code",
   "execution_count": 17,
   "metadata": {},
   "outputs": [],
   "source": [
    "driver=webdriver.Chrome(r\"C:\\Users\\eshan\\Downloads\\chromedriver_win32\\chromedriver.exe\")"
   ]
  },
  {
   "cell_type": "code",
   "execution_count": 18,
   "metadata": {},
   "outputs": [],
   "source": [
    "url=\"https://www.naukri.com/datascientist-machine-learning-jobs-in-bangalore?k=datascientist%2C%20machine%20learning&l=bangalore\""
   ]
  },
  {
   "cell_type": "code",
   "execution_count": 19,
   "metadata": {},
   "outputs": [],
   "source": [
    "driver.get(url)"
   ]
  },
  {
   "cell_type": "code",
   "execution_count": 20,
   "metadata": {},
   "outputs": [],
   "source": [
    "job_title=[]\n",
    "job_location=[]\n",
    "company_name=[]\n",
    "full_job_description=[]"
   ]
  },
  {
   "cell_type": "code",
   "execution_count": 21,
   "metadata": {},
   "outputs": [],
   "source": [
    "url=\"https://www.naukri.com/job-listings-hcl-is-hiring-for-ai-ml-engineers-hcl-technologies-limited-chennai-bengaluru-bangalore-greater-noida-5-to-10-years-301120003621?src=jobsearchDesk&sid=16072507177396407_1&xp=1&px=1\""
   ]
  },
  {
   "cell_type": "code",
   "execution_count": 22,
   "metadata": {},
   "outputs": [],
   "source": [
    "driver.get(url)"
   ]
  },
  {
   "cell_type": "code",
   "execution_count": 44,
   "metadata": {},
   "outputs": [],
   "source": [
    "name=driver.find_elements_by_xpath(\"//a[@class='subTitle ellipsis fleft']\")\n",
    "for i in name:\n",
    "    company=i.text\n",
    "    company_name.append(company)\n",
    "    \n",
    "title=driver.find_elements_by_xpath(\"//a[@class='title fw500 ellipsis']\")\n",
    "for i in title:\n",
    "    job=i.text\n",
    "    job_title.append(job)\n",
    "    \n",
    "location=driver.find_elements_by_xpath(\"//li[@class='fleft grey-text br2 placeHolderLi location']//span\")\n",
    "for i in location:\n",
    "    loc=i.text\n",
    "    job_location.append(loc)\n",
    "    \n",
    "\n",
    "    \n",
    "    \n",
    "    "
   ]
  },
  {
   "cell_type": "code",
   "execution_count": 37,
   "metadata": {},
   "outputs": [],
   "source": [
    "desc=driver.find_elements_by_xpath(\"//div[@class='clearboth description']//ul\")\n",
    "\n"
   ]
  },
  {
   "cell_type": "code",
   "execution_count": 25,
   "metadata": {},
   "outputs": [],
   "source": [
    "for i in desc:\n",
    "    des=i.get_attribute(\"innerText\")\n",
    "    "
   ]
  },
  {
   "cell_type": "code",
   "execution_count": 45,
   "metadata": {},
   "outputs": [
    {
     "name": "stdout",
     "output_type": "stream",
     "text": [
      "['HCL is Hiring For AI/ML Engineers', 'Data Engineer - Machine Learning', 'Data Science Advisor', 'Immediate opening For Data Scientist/Data Analyst', 'AI Resident - Data Scientist', 'Python Programming Language Application Support Engineer', 'ML Software Engineer', 'AI, ML Technical Architect', 'AI Resident - Data Scientist - NLP', 'HPC & AI Resident']\n",
      "\n",
      "\n",
      "['HCL IS HIRING FOR AI/ML ENGINEERS', 'HCL Technologies Limited', 'NetApp', 'Dell International Services IndiaPrivate Limited', 'CAIA-Center For Artificial Intelligence & Advanced Analytics', 'Shell India Markets Private Limited', 'Accenture Solutions Pvt Ltd', 'IBM India Pvt. Limited', 'Augusta Infotech', 'Shell India Markets Private Limited']\n",
      "\n",
      "\n",
      "['Chennai, Bengaluru, Greater Noida', 'Bengaluru', 'Bengaluru', 'Chennai, Pune, Bengaluru, Hyderabad', 'Bengaluru', 'Bengaluru', 'Bengaluru', 'Bengaluru, Kochi', 'Bengaluru', 'Bengaluru']\n"
     ]
    }
   ],
   "source": [
    "print(job_title[:10])\n",
    "print('\\n')\n",
    "print(company_name[:10])\n",
    "print('\\n')\n",
    "print(job_location[:10])"
   ]
  },
  {
   "cell_type": "markdown",
   "metadata": {},
   "source": [
    "### 3.Scrape data using the filters available on the webpage "
   ]
  },
  {
   "cell_type": "code",
   "execution_count": 46,
   "metadata": {},
   "outputs": [],
   "source": [
    "import selenium\n",
    "from selenium import webdriver\n",
    "import pandas as pd"
   ]
  },
  {
   "cell_type": "code",
   "execution_count": 54,
   "metadata": {},
   "outputs": [],
   "source": [
    "driver=webdriver.Chrome(r\"C:\\Users\\eshan\\Downloads\\chromedriver_win32\\chromedriver.exe\")"
   ]
  },
  {
   "cell_type": "code",
   "execution_count": 55,
   "metadata": {},
   "outputs": [],
   "source": [
    "url=\"https://www.naukri.com/data-scientist-jobs?k=data%20scientist&cityType=25.9.31&ctcFilter=3to6\""
   ]
  },
  {
   "cell_type": "code",
   "execution_count": 57,
   "metadata": {},
   "outputs": [],
   "source": [
    "driver.get(url)"
   ]
  },
  {
   "cell_type": "code",
   "execution_count": 58,
   "metadata": {},
   "outputs": [],
   "source": [
    "job_title=[]\n",
    "job_location=[]\n",
    "company_name=[]\n",
    "experience_required=[]"
   ]
  },
  {
   "cell_type": "code",
   "execution_count": 59,
   "metadata": {},
   "outputs": [],
   "source": [
    "title=driver.find_elements_by_xpath(\"//a[@class='title fw500 ellipsis']\")\n"
   ]
  },
  {
   "cell_type": "code",
   "execution_count": 60,
   "metadata": {},
   "outputs": [],
   "source": [
    "for i in title:\n",
    "    job=i.text\n",
    "    job_title.append(job)"
   ]
  },
  {
   "cell_type": "code",
   "execution_count": 61,
   "metadata": {},
   "outputs": [],
   "source": [
    "location=driver.find_elements_by_xpath(\"//li[@class='fleft grey-text br2 placeHolderLi location']//span\")\n"
   ]
  },
  {
   "cell_type": "code",
   "execution_count": 62,
   "metadata": {},
   "outputs": [],
   "source": [
    "for i in location:\n",
    "    loc=i.text\n",
    "    job_location.append(loc)"
   ]
  },
  {
   "cell_type": "code",
   "execution_count": 63,
   "metadata": {},
   "outputs": [],
   "source": [
    "company=driver.find_elements_by_xpath(\"//a[@class='subTitle ellipsis fleft']\")\n"
   ]
  },
  {
   "cell_type": "code",
   "execution_count": 64,
   "metadata": {},
   "outputs": [],
   "source": [
    "for i in company:\n",
    "    name=i.text\n",
    "    company_name.append(name)"
   ]
  },
  {
   "cell_type": "code",
   "execution_count": 65,
   "metadata": {},
   "outputs": [],
   "source": [
    "experience=driver.find_elements_by_xpath(\"//li[@class='fleft grey-text br2 placeHolderLi experience']//span\")\n"
   ]
  },
  {
   "cell_type": "code",
   "execution_count": 66,
   "metadata": {},
   "outputs": [],
   "source": [
    "for i in experience:\n",
    "    exp=i.text\n",
    "    experience_required.append(exp)"
   ]
  },
  {
   "cell_type": "code",
   "execution_count": 67,
   "metadata": {},
   "outputs": [],
   "source": [
    "result=pd.DataFrame({})\n",
    "result['job_title']=job_title\n",
    "result['job_location']=job_location\n",
    "result['company_name']=company_name\n",
    "result['experience_required']=experience_required\n"
   ]
  },
  {
   "cell_type": "code",
   "execution_count": 68,
   "metadata": {},
   "outputs": [
    {
     "data": {
      "text/html": [
       "<div>\n",
       "<style scoped>\n",
       "    .dataframe tbody tr th:only-of-type {\n",
       "        vertical-align: middle;\n",
       "    }\n",
       "\n",
       "    .dataframe tbody tr th {\n",
       "        vertical-align: top;\n",
       "    }\n",
       "\n",
       "    .dataframe thead th {\n",
       "        text-align: right;\n",
       "    }\n",
       "</style>\n",
       "<table border=\"1\" class=\"dataframe\">\n",
       "  <thead>\n",
       "    <tr style=\"text-align: right;\">\n",
       "      <th></th>\n",
       "      <th>job_title</th>\n",
       "      <th>job_location</th>\n",
       "      <th>company_name</th>\n",
       "      <th>experience_required</th>\n",
       "    </tr>\n",
       "  </thead>\n",
       "  <tbody>\n",
       "    <tr>\n",
       "      <th>0</th>\n",
       "      <td>Fresher Data Engineer / Data Scientist / Data ...</td>\n",
       "      <td>Delhi NCR, Bengaluru, Hyderabad</td>\n",
       "      <td>ACHYUTAS SOFT PRIVATE LIMITED</td>\n",
       "      <td>0-2 Yrs</td>\n",
       "    </tr>\n",
       "    <tr>\n",
       "      <th>1</th>\n",
       "      <td>Data Scientist - Python/Machine Learning</td>\n",
       "      <td>Noida</td>\n",
       "      <td>Jubna</td>\n",
       "      <td>5-8 Yrs</td>\n",
       "    </tr>\n",
       "    <tr>\n",
       "      <th>2</th>\n",
       "      <td>Data Scientist</td>\n",
       "      <td>Gurgaon Gurugram</td>\n",
       "      <td>IBM India Pvt. Limited</td>\n",
       "      <td>4-8 Yrs</td>\n",
       "    </tr>\n",
       "    <tr>\n",
       "      <th>3</th>\n",
       "      <td>Only Fresher / Data Scientist / Data Analyst /...</td>\n",
       "      <td>Delhi NCR, Noida, Gurgaon</td>\n",
       "      <td>GABA Consultancy services</td>\n",
       "      <td>0-0 Yrs</td>\n",
       "    </tr>\n",
       "    <tr>\n",
       "      <th>4</th>\n",
       "      <td>Data Scientist</td>\n",
       "      <td>Gurgaon</td>\n",
       "      <td>PureSoftware Pvt Ltd.</td>\n",
       "      <td>5-9 Yrs</td>\n",
       "    </tr>\n",
       "    <tr>\n",
       "      <th>5</th>\n",
       "      <td>Only Fresher / Data Scientist / Data Analyst /...</td>\n",
       "      <td>Delhi NCR, Greater Noida, Noida</td>\n",
       "      <td>GABA Consultancy services</td>\n",
       "      <td>0-0 Yrs</td>\n",
       "    </tr>\n",
       "    <tr>\n",
       "      <th>6</th>\n",
       "      <td>Data Scientist</td>\n",
       "      <td>Delhi NCR, Gurgaon</td>\n",
       "      <td>Air Asia India Limited</td>\n",
       "      <td>1-4 Yrs</td>\n",
       "    </tr>\n",
       "    <tr>\n",
       "      <th>7</th>\n",
       "      <td>Lead Data Scientist</td>\n",
       "      <td>Delhi NCR, Noida(Sector-142 Noida)</td>\n",
       "      <td>NEC CORPORATION INDIA PRIVATE LTD</td>\n",
       "      <td>9-14 Yrs</td>\n",
       "    </tr>\n",
       "    <tr>\n",
       "      <th>8</th>\n",
       "      <td>Excellent opportunity For Lead Data Scientist ...</td>\n",
       "      <td>Delhi NCR(Sector-142 Noida), Noida</td>\n",
       "      <td>NEC CORPORATION INDIA PRIVATE LTD</td>\n",
       "      <td>9-14 Yrs</td>\n",
       "    </tr>\n",
       "    <tr>\n",
       "      <th>9</th>\n",
       "      <td>Lead Data Scientist</td>\n",
       "      <td>Delhi NCR, Noida(Sector-142 Noida)</td>\n",
       "      <td>NEC CORPORATION INDIA PRIVATE LTD</td>\n",
       "      <td>9-14 Yrs</td>\n",
       "    </tr>\n",
       "  </tbody>\n",
       "</table>\n",
       "</div>"
      ],
      "text/plain": [
       "                                           job_title  \\\n",
       "0  Fresher Data Engineer / Data Scientist / Data ...   \n",
       "1           Data Scientist - Python/Machine Learning   \n",
       "2                                     Data Scientist   \n",
       "3  Only Fresher / Data Scientist / Data Analyst /...   \n",
       "4                                     Data Scientist   \n",
       "5  Only Fresher / Data Scientist / Data Analyst /...   \n",
       "6                                     Data Scientist   \n",
       "7                                Lead Data Scientist   \n",
       "8  Excellent opportunity For Lead Data Scientist ...   \n",
       "9                                Lead Data Scientist   \n",
       "\n",
       "                         job_location                       company_name  \\\n",
       "0     Delhi NCR, Bengaluru, Hyderabad      ACHYUTAS SOFT PRIVATE LIMITED   \n",
       "1                               Noida                              Jubna   \n",
       "2                    Gurgaon Gurugram             IBM India Pvt. Limited   \n",
       "3           Delhi NCR, Noida, Gurgaon          GABA Consultancy services   \n",
       "4                             Gurgaon              PureSoftware Pvt Ltd.   \n",
       "5     Delhi NCR, Greater Noida, Noida          GABA Consultancy services   \n",
       "6                  Delhi NCR, Gurgaon             Air Asia India Limited   \n",
       "7  Delhi NCR, Noida(Sector-142 Noida)  NEC CORPORATION INDIA PRIVATE LTD   \n",
       "8  Delhi NCR(Sector-142 Noida), Noida  NEC CORPORATION INDIA PRIVATE LTD   \n",
       "9  Delhi NCR, Noida(Sector-142 Noida)  NEC CORPORATION INDIA PRIVATE LTD   \n",
       "\n",
       "  experience_required  \n",
       "0             0-2 Yrs  \n",
       "1             5-8 Yrs  \n",
       "2             4-8 Yrs  \n",
       "3             0-0 Yrs  \n",
       "4             5-9 Yrs  \n",
       "5             0-0 Yrs  \n",
       "6             1-4 Yrs  \n",
       "7            9-14 Yrs  \n",
       "8            9-14 Yrs  \n",
       "9            9-14 Yrs  "
      ]
     },
     "execution_count": 68,
     "metadata": {},
     "output_type": "execute_result"
    }
   ],
   "source": [
    "result[:10]"
   ]
  },
  {
   "cell_type": "markdown",
   "metadata": {},
   "source": [
    "### 4. Program to scrape data for first 10 job results for Data scientist Designation in Noida location. You have to scrape company_name, No. of days ago when job was posted, Rating of the company.\n"
   ]
  },
  {
   "cell_type": "code",
   "execution_count": 69,
   "metadata": {},
   "outputs": [],
   "source": [
    "import selenium\n",
    "from selenium import webdriver\n",
    "import pandas as pd"
   ]
  },
  {
   "cell_type": "code",
   "execution_count": 70,
   "metadata": {},
   "outputs": [],
   "source": [
    "driver=webdriver.Chrome(r\"C:\\Users\\eshan\\Downloads\\chromedriver_win32\\chromedriver.exe\")"
   ]
  },
  {
   "cell_type": "code",
   "execution_count": 71,
   "metadata": {},
   "outputs": [],
   "source": [
    "url=\"https://www.glassdoor.co.in/Job/noida-data-scientist-jobs-SRCH_IL.0,5_IC4477468_KO6,20.htm\""
   ]
  },
  {
   "cell_type": "code",
   "execution_count": 72,
   "metadata": {},
   "outputs": [],
   "source": [
    "driver.get(url)"
   ]
  },
  {
   "cell_type": "code",
   "execution_count": 73,
   "metadata": {},
   "outputs": [],
   "source": [
    "company_name=[]\n",
    "no_of_days_posted=[]\n",
    "ratings=[]"
   ]
  },
  {
   "cell_type": "code",
   "execution_count": 74,
   "metadata": {},
   "outputs": [],
   "source": [
    "company=driver.find_elements_by_xpath(\"//a[@class=' css-10l5u4p e1n63ojh0 jobLink']\")\n"
   ]
  },
  {
   "cell_type": "code",
   "execution_count": 75,
   "metadata": {},
   "outputs": [],
   "source": [
    "for i in company:\n",
    "    name=i.text\n",
    "    company_name.append(name)"
   ]
  },
  {
   "cell_type": "code",
   "execution_count": 76,
   "metadata": {},
   "outputs": [],
   "source": [
    "number=driver.find_elements_by_xpath(\"//div[@class='d-flex align-items-end pl-std css-mi55ob']\")\n"
   ]
  },
  {
   "cell_type": "code",
   "execution_count": 77,
   "metadata": {},
   "outputs": [],
   "source": [
    "for i in number:\n",
    "    num=i.text\n",
    "    no_of_days_posted.append(num)"
   ]
  },
  {
   "cell_type": "code",
   "execution_count": 78,
   "metadata": {},
   "outputs": [],
   "source": [
    "rating=driver.find_elements_by_xpath(\"//span[@class='compactStars ']\")\n"
   ]
  },
  {
   "cell_type": "code",
   "execution_count": 81,
   "metadata": {},
   "outputs": [
    {
     "data": {
      "text/plain": [
       "['4',\n",
       " '3.8',\n",
       " '4.3',\n",
       " '3.7',\n",
       " '3.7',\n",
       " '3.7',\n",
       " '3.8',\n",
       " '3.7',\n",
       " '3.6',\n",
       " '4.9',\n",
       " '3.4',\n",
       " '4',\n",
       " '4.9',\n",
       " '3.1',\n",
       " '3.9',\n",
       " '3.7',\n",
       " '4.8',\n",
       " '5',\n",
       " '3.7',\n",
       " '4.1',\n",
       " '3.5',\n",
       " '4',\n",
       " '3',\n",
       " '3.8',\n",
       " '4',\n",
       " '4',\n",
       " '3.8',\n",
       " '4.3',\n",
       " '3.7',\n",
       " '3.7',\n",
       " '3.7',\n",
       " '3.8',\n",
       " '3.7',\n",
       " '3.6',\n",
       " '4.9',\n",
       " '3.4',\n",
       " '4',\n",
       " '4.9',\n",
       " '3.1',\n",
       " '3.9',\n",
       " '3.7',\n",
       " '4.8',\n",
       " '5',\n",
       " '3.7',\n",
       " '4.1',\n",
       " '3.5',\n",
       " '4',\n",
       " '3',\n",
       " '3.8',\n",
       " '4']"
      ]
     },
     "execution_count": 81,
     "metadata": {},
     "output_type": "execute_result"
    }
   ],
   "source": [
    "for i in rating:\n",
    "    rate=i.text.strip()\n",
    "    ratings.append(rate)\n",
    "ratings"
   ]
  },
  {
   "cell_type": "code",
   "execution_count": null,
   "metadata": {},
   "outputs": [],
   "source": [
    "rating = driver.find_elements_by_xpath(\"//span[@class='compactStars ']\")\n",
    "for rating in ratings:\n",
    "    \n",
    "    if (rating != \"\" or rating.strip()):\n",
    "        print(rating)\n",
    "        ratings.append(rating)\n",
    "    else:\n",
    "        print(rating)\n",
    "        ratings.append(\"No comments\")"
   ]
  },
  {
   "cell_type": "code",
   "execution_count": 80,
   "metadata": {},
   "outputs": [],
   "source": [
    "final=pd.DataFrame({})\n",
    "final['company_name']=company_name\n",
    "final['no_of_days_posted']=no_of_days_posted\n",
    "#final['ratings']=final['ratings'].apply(lambda x: x.str.replace('.*', '').reset_index(drop=True).set_value(0, x.values[0])).values\n",
    "#final['ratings'] = final.groupby('ratings'['ratings'].apply(lambda x: x.str.replace('.*', '').set_value(len(x) // 2, x.values[0], True)).values "
   ]
  },
  {
   "cell_type": "code",
   "execution_count": 83,
   "metadata": {},
   "outputs": [
    {
     "data": {
      "text/html": [
       "<div>\n",
       "<style scoped>\n",
       "    .dataframe tbody tr th:only-of-type {\n",
       "        vertical-align: middle;\n",
       "    }\n",
       "\n",
       "    .dataframe tbody tr th {\n",
       "        vertical-align: top;\n",
       "    }\n",
       "\n",
       "    .dataframe thead th {\n",
       "        text-align: right;\n",
       "    }\n",
       "</style>\n",
       "<table border=\"1\" class=\"dataframe\">\n",
       "  <thead>\n",
       "    <tr style=\"text-align: right;\">\n",
       "      <th></th>\n",
       "      <th>company_name</th>\n",
       "      <th>no_of_days_posted</th>\n",
       "    </tr>\n",
       "  </thead>\n",
       "  <tbody>\n",
       "    <tr>\n",
       "      <th>0</th>\n",
       "      <td>IHS Markit</td>\n",
       "      <td>1d</td>\n",
       "    </tr>\n",
       "    <tr>\n",
       "      <th>1</th>\n",
       "      <td>Genpact</td>\n",
       "      <td>22d</td>\n",
       "    </tr>\n",
       "    <tr>\n",
       "      <th>2</th>\n",
       "      <td>Amazon</td>\n",
       "      <td>8d</td>\n",
       "    </tr>\n",
       "    <tr>\n",
       "      <th>3</th>\n",
       "      <td>Brickred</td>\n",
       "      <td>12d</td>\n",
       "    </tr>\n",
       "    <tr>\n",
       "      <th>4</th>\n",
       "      <td>ESRI, Inc.</td>\n",
       "      <td>1d</td>\n",
       "    </tr>\n",
       "    <tr>\n",
       "      <th>5</th>\n",
       "      <td>Biz2Credit Inc</td>\n",
       "      <td>1d</td>\n",
       "    </tr>\n",
       "    <tr>\n",
       "      <th>6</th>\n",
       "      <td>Genpact</td>\n",
       "      <td>22d</td>\n",
       "    </tr>\n",
       "    <tr>\n",
       "      <th>7</th>\n",
       "      <td>Algoscale</td>\n",
       "      <td>21d</td>\n",
       "    </tr>\n",
       "    <tr>\n",
       "      <th>8</th>\n",
       "      <td>GLG</td>\n",
       "      <td>24h</td>\n",
       "    </tr>\n",
       "    <tr>\n",
       "      <th>9</th>\n",
       "      <td>Netomi</td>\n",
       "      <td>5d</td>\n",
       "    </tr>\n",
       "  </tbody>\n",
       "</table>\n",
       "</div>"
      ],
      "text/plain": [
       "     company_name no_of_days_posted\n",
       "0      IHS Markit                1d\n",
       "1         Genpact               22d\n",
       "2          Amazon                8d\n",
       "3        Brickred               12d\n",
       "4      ESRI, Inc.                1d\n",
       "5  Biz2Credit Inc                1d\n",
       "6         Genpact               22d\n",
       "7       Algoscale               21d\n",
       "8             GLG               24h\n",
       "9          Netomi                5d"
      ]
     },
     "execution_count": 83,
     "metadata": {},
     "output_type": "execute_result"
    }
   ],
   "source": [
    "final[:10]"
   ]
  },
  {
   "cell_type": "markdown",
   "metadata": {},
   "source": [
    "## 5. Glass door "
   ]
  },
  {
   "cell_type": "code",
   "execution_count": 84,
   "metadata": {},
   "outputs": [],
   "source": [
    "import selenium\n",
    "from selenium import webdriver\n",
    "import pandas as pd"
   ]
  },
  {
   "cell_type": "code",
   "execution_count": 113,
   "metadata": {},
   "outputs": [],
   "source": [
    "driver=webdriver.Chrome(r\"C:\\Users\\eshan\\Downloads\\chromedriver_win32\\chromedriver.exe\")"
   ]
  },
  {
   "cell_type": "code",
   "execution_count": 114,
   "metadata": {},
   "outputs": [],
   "source": [
    "url=\"https://www.glassdoor.co.in/Salaries/new-delhi-data-scientist-salary-SRCH_IL.0,9_IM1083_KO10,24.htm?clickSource=searchBtn\""
   ]
  },
  {
   "cell_type": "code",
   "execution_count": 115,
   "metadata": {},
   "outputs": [],
   "source": [
    "driver.get(url)"
   ]
  },
  {
   "cell_type": "code",
   "execution_count": 116,
   "metadata": {},
   "outputs": [],
   "source": [
    "salary=[]\n",
    "min_salary=[]\n",
    "max_salary=[]\n",
    "company_name=[]\n",
    "Average_salary=[]\n",
    "rating=[]"
   ]
  },
  {
   "cell_type": "code",
   "execution_count": 117,
   "metadata": {},
   "outputs": [],
   "source": [
    "company=driver.find_elements_by_xpath(\"//p[@class='m-0'][2]\")\n"
   ]
  },
  {
   "cell_type": "code",
   "execution_count": 118,
   "metadata": {},
   "outputs": [],
   "source": [
    "for i in company:\n",
    "    com=i.text\n",
    "    company_name.append(com)"
   ]
  },
  {
   "cell_type": "code",
   "execution_count": 119,
   "metadata": {},
   "outputs": [],
   "source": [
    "sal=driver.find_elements_by_xpath(\"//p[@class='d-block d-md-none m-0 css-1kuy7z7']\")"
   ]
  },
  {
   "cell_type": "code",
   "execution_count": 120,
   "metadata": {},
   "outputs": [],
   "source": [
    "for i in sal:\n",
    "    s=i.get_attribute(\"innerText\")\n",
    "    salary.append(s)\n",
    "    #text.split(\":\")[-1].strip()"
   ]
  },
  {
   "cell_type": "code",
   "execution_count": 121,
   "metadata": {},
   "outputs": [],
   "source": [
    "avg_sal=driver.find_elements_by_xpath(\"//p[@class='d-block d-md-none m-0']//strong\")\n"
   ]
  },
  {
   "cell_type": "code",
   "execution_count": 122,
   "metadata": {},
   "outputs": [],
   "source": [
    "for i in avg_sal:\n",
    "    avg=i.get_attribute(\"innerText\")\n",
    "    Average_salary.append(avg)"
   ]
  },
  {
   "cell_type": "code",
   "execution_count": 123,
   "metadata": {},
   "outputs": [],
   "source": [
    "min_sal=driver.find_elements_by_xpath(\"//div[@class='common__RangeBarStyle__values common__flex__justifySpaceBetween common__flex__container ']/span[1]\")\n"
   ]
  },
  {
   "cell_type": "code",
   "execution_count": 124,
   "metadata": {},
   "outputs": [],
   "source": [
    "for i in min_sal:\n",
    "    min_=i.text\n",
    "    min_salary.append(min_)\n",
    "    "
   ]
  },
  {
   "cell_type": "code",
   "execution_count": 146,
   "metadata": {},
   "outputs": [],
   "source": [
    "max_sal=driver.find_elements_by_xpath(\"//div[@class='common__RangeBarStyle__values common__flex__justifySpaceBetween common__flex__container ']/span[2]\")"
   ]
  },
  {
   "cell_type": "code",
   "execution_count": 147,
   "metadata": {},
   "outputs": [],
   "source": [
    "for i in max_sal:\n",
    "    max_=i.text\n",
    "    max_salary.append(max_)"
   ]
  },
  {
   "cell_type": "code",
   "execution_count": 127,
   "metadata": {},
   "outputs": [],
   "source": [
    "driver.find_element_by_xpath(\"//p[@class='m-0']//a\").click()"
   ]
  },
  {
   "cell_type": "code",
   "execution_count": 129,
   "metadata": {},
   "outputs": [
    {
     "data": {
      "text/plain": [
       "[]"
      ]
     },
     "execution_count": 129,
     "metadata": {},
     "output_type": "execute_result"
    }
   ],
   "source": [
    "rating=driver.find_elements_by_xpath(\"//div[@class='v2__EIReviewsRatingsStylesV2__ratingInfo']//span[@class='rating']\")\n",
    "rating"
   ]
  },
  {
   "cell_type": "code",
   "execution_count": 108,
   "metadata": {},
   "outputs": [],
   "source": [
    "for i in rating:\n",
    "    rate=i.text\n",
    "    ratings.append(rate)"
   ]
  },
  {
   "cell_type": "code",
   "execution_count": null,
   "metadata": {},
   "outputs": [],
   "source": [
    "ratings"
   ]
  },
  {
   "cell_type": "code",
   "execution_count": 131,
   "metadata": {},
   "outputs": [
    {
     "data": {
      "text/plain": [
       "['₹705K',\n",
       " '₹571K',\n",
       " '₹580K',\n",
       " '₹468K',\n",
       " '₹708K',\n",
       " '₹14K',\n",
       " '₹488K',\n",
       " '₹784K',\n",
       " '₹496K',\n",
       " '₹8K',\n",
       " '₹960K',\n",
       " '₹614K',\n",
       " '₹200K',\n",
       " '₹1,517K',\n",
       " '₹809K',\n",
       " '₹33K',\n",
       " '₹625K',\n",
       " '₹1,406K',\n",
       " '₹11K',\n",
       " '₹843K']"
      ]
     },
     "execution_count": 131,
     "metadata": {},
     "output_type": "execute_result"
    }
   ],
   "source": [
    "min_salary"
   ]
  },
  {
   "cell_type": "code",
   "execution_count": 148,
   "metadata": {},
   "outputs": [
    {
     "data": {
      "text/plain": [
       "['', '₹500K', '₹3,033K', '₹500K', '₹11,495K', '₹247K', '', '', '']"
      ]
     },
     "execution_count": 148,
     "metadata": {},
     "output_type": "execute_result"
    }
   ],
   "source": [
    "max_salary"
   ]
  },
  {
   "cell_type": "markdown",
   "metadata": {},
   "source": [
    "### 6.Sunglasses from flipkart"
   ]
  },
  {
   "cell_type": "code",
   "execution_count": 150,
   "metadata": {},
   "outputs": [],
   "source": [
    "import selenium\n",
    "from selenium import webdriver\n",
    "import pandas as pd  "
   ]
  },
  {
   "cell_type": "code",
   "execution_count": 151,
   "metadata": {},
   "outputs": [],
   "source": [
    "driver=webdriver.Chrome(r\"C:\\Users\\eshan\\Downloads\\chromedriver_win32\\chromedriver.exe\")"
   ]
  },
  {
   "cell_type": "code",
   "execution_count": 152,
   "metadata": {},
   "outputs": [],
   "source": [
    "url=\"https://www.flipkart.com/search?q=sunglasses&otracker=search&otracker1=search&marketplace=FLIPKART&as-show=on&as=off\""
   ]
  },
  {
   "cell_type": "code",
   "execution_count": 153,
   "metadata": {},
   "outputs": [],
   "source": [
    "driver.get(url)"
   ]
  },
  {
   "cell_type": "code",
   "execution_count": 154,
   "metadata": {},
   "outputs": [],
   "source": [
    "Brand=[]\n",
    "Product_Description=[]\n",
    "Price=[]\n",
    "Discount=[]"
   ]
  },
  {
   "cell_type": "code",
   "execution_count": 155,
   "metadata": {},
   "outputs": [],
   "source": [
    "brand=driver.find_elements_by_xpath(\"//div[@class='_2WkVRV']\")\n",
    "product=driver.find_elements_by_xpath(\"//a[@class='IRpwTa']\")\n",
    "price=driver.find_elements_by_xpath(\"//div[@class='_30jeq3']\")\n",
    "discount=driver.find_elements_by_xpath(\"//div[@class='_3Ay6Sb']//span\")\n",
    "\n",
    "\n",
    "for i in brand:\n",
    "    name=i.text\n",
    "    Brand.append(name)\n",
    "    \n",
    "for i in product:\n",
    "    prod=i.text\n",
    "    Product_Description.append(prod)\n",
    "    \n",
    "for i in price:\n",
    "    pric=i.text\n",
    "    Price.append(pric)\n",
    "    \n",
    "for i in discount:\n",
    "    disc=i.text\n",
    "    Discount.append(disc)\n",
    "    \n",
    "    \n",
    " \n"
   ]
  },
  {
   "cell_type": "code",
   "execution_count": 156,
   "metadata": {},
   "outputs": [],
   "source": [
    "driver.find_element_by_xpath(\"//a[@class='_1LKTO3']\").click()"
   ]
  },
  {
   "cell_type": "code",
   "execution_count": 157,
   "metadata": {},
   "outputs": [],
   "source": [
    "brand=driver.find_elements_by_xpath(\"//div[@class='_2WkVRV']\")\n",
    "product=driver.find_elements_by_xpath(\"//a[@class='IRpwTa']\")\n",
    "price=driver.find_elements_by_xpath(\"//div[@class='_30jeq3']\")\n",
    "discount=driver.find_elements_by_xpath(\"//div[@class='_3Ay6Sb']//span\")\n",
    "\n",
    "\n",
    "for i in brand:\n",
    "    name=i.text\n",
    "    Brand.append(name)\n",
    "    \n",
    "for i in product:\n",
    "    prod=i.text\n",
    "    Product_Description.append(prod)\n",
    "    \n",
    "for i in price:\n",
    "    pric=i.text\n",
    "    Price.append(pric)\n",
    "    \n",
    "for i in discount:\n",
    "    disc=i.text\n",
    "    Discount.append(disc)\n",
    "    \n",
    "    \n",
    " "
   ]
  },
  {
   "cell_type": "code",
   "execution_count": 158,
   "metadata": {},
   "outputs": [],
   "source": [
    "driver.find_element_by_xpath(\"//a[@class='_1LKTO3']\").click()"
   ]
  },
  {
   "cell_type": "code",
   "execution_count": 159,
   "metadata": {},
   "outputs": [],
   "source": [
    "brand=driver.find_elements_by_xpath(\"//div[@class='_2WkVRV']\")\n",
    "product=driver.find_elements_by_xpath(\"//a[@class='IRpwTa']\")\n",
    "price=driver.find_elements_by_xpath(\"//div[@class='_30jeq3']\")\n",
    "discount=driver.find_elements_by_xpath(\"//div[@class='_3Ay6Sb']//span\")\n",
    "\n",
    "\n",
    "for i in brand:\n",
    "    name=i.text\n",
    "    Brand.append(name)\n",
    "    \n",
    "for i in product:\n",
    "    prod=i.text\n",
    "    Product_Description.append(prod)\n",
    "    \n",
    "for i in price:\n",
    "    pric=i.text\n",
    "    Price.append(pric)\n",
    "    \n",
    "for i in discount:\n",
    "    disc=i.text\n",
    "    Discount.append(disc)\n",
    "    \n",
    "    \n",
    " \n"
   ]
  },
  {
   "cell_type": "code",
   "execution_count": 160,
   "metadata": {},
   "outputs": [
    {
     "name": "stdout",
     "output_type": "stream",
     "text": [
      "['Specsmakers', 'Specsmakers', 'FDA COLLECTION', 'FDA COLLECTION', 'JOHAENA', 'FDA COLLECTION', 'Collet', 'Orkee', 'Rozzetta Craft', 'Trendy Glasses', 'Fastrack', 'Specsmakers', 'Winsome', 'peter india', 'shadz', 'Royal Son', 'shah collections', 'I Flash', 'DAHAAZIL', 'Specsmakers', 'shadz', 'ETRG', 'Rich Club', 'Orkee', 'Fastrack', 'I Flash', 'Online Mantra', 'Specsmakers', 'shah collections', 'Phenomenal', 'Dannilo', 'Specsmakers', 'shadz', 'Singco India', 'dannilo', 'Farenheit', 'Silver Kartz', 'ROZZETTA CRAFT', 'Fastrack', 'Farenheit', 'ROZZETTA CRAFT', 'kingsunglasses', 'Spexra', 'Specsmakers', 'Fastrack', 'RPR', 'Dannilo', 'Gansta', 'shadz', 'shah collections', 'shah collections', 'Specsmakers', 'zarsha', 'Fastrack', 'Provogue', 'Orkee', 'Royal Son', 'funglasses', 'I Flash', 'Specsmakers', 'INSH', 'Provogue', 'Scaglia', 'Specsmakers', 'Trendy Glasses', 'Royal Son', 'Aislin', 'Fravy', 'ROZZETTA CRAFT', 'Orkee', 'JUST STYLE', 'Ayezent', 'Trendy Glasses', 'Specsmakers', 'VIVEXO', 'blutech', 'SRPM', 'shah collections', 'shadz', 'Specsmakers', 'Pierre Cardin', 'Fossil', 'FDA COLLECTION', 'FDA COLLECTION', 'JOHAENA', 'FDA COLLECTION', 'Collet', 'Specsmakers', 'Rozzetta Craft', 'Trendy Glasses', 'Fastrack', 'Fossil', 'Winsome', 'peter india', 'shadz', 'Specsmakers', 'shah collections', 'I Flash', 'DAHAAZIL', 'Specsmakers']\n",
      "\n",
      "\n",
      "['Polarized Aviator Sunglasses (54)', 'Gradient, Mirrored, UV Protection Round, Round, Round S...', 'Gradient, Mirrored, UV Protection, Polarized Round, Rou...', 'Riding Glasses, UV Protection Oval Sunglasses (52)', 'Gradient, Mirrored, UV Protection Round, Round, Round S...', 'Gradient, Mirrored, UV Protection Aviator Sunglasses (F...', 'UV Protection Rectangular Sunglasses (Free Size)', 'UV Protection, Night Vision Retro Square Sunglasses (Fr...', 'UV Protection Wayfarer Sunglasses (Free Size)', 'Mirrored Oval Sunglasses (50)', 'UV Protection Round Sunglasses (54)', 'UV Protection Spectacle Sunglasses (Free Size)', 'UV Protection, Polarized Retro Square Sunglasses (59)', 'Mirrored Aviator Sunglasses (58)', 'UV Protection Round Sunglasses (Free Size)', 'Gradient, UV Protection Aviator Sunglasses (99)', 'UV Protection, Mirrored, Gradient Round Sunglasses (51)', 'UV Protection Aviator Sunglasses (58)', 'UV Protection, Mirrored Retro Square Sunglasses (53)', 'Polarized Aviator Sunglasses (58)', 'UV Protection Round Sunglasses (Free Size)', 'UV Protection Rectangular Sunglasses (58)', 'UV Protection Oval Sunglasses (56)', 'UV Protection Retro Square Sunglasses (Free Size)', 'Gradient, UV Protection Wayfarer Sunglasses (Free Size)', 'UV Protection Aviator Sunglasses (58)', 'UV Protection, Gradient Round Sunglasses (Free Size)', 'UV Protection Spectacle Sunglasses (Free Size)', 'Polarized Aviator Sunglasses (54)', 'UV Protection Wayfarer Sunglasses (Free Size)', 'UV Protection Wayfarer Sunglasses (Free Size)', 'UV Protection, Mirrored Wayfarer Sunglasses (53)', 'UV Protection Round Sunglasses (Free Size)', 'UV Protection Rectangular Sunglasses (Free Size)', 'Gradient Wayfarer Sunglasses (Free Size)', 'UV Protection Wayfarer Sunglasses (55)', 'Mirrored Oval Sunglasses (50)', 'UV Protection, Night Vision, Riding Glasses Rectangular...', 'Gradient Wayfarer Sunglasses (Free Size)', 'UV Protection Retro Square Sunglasses (Free Size)', 'Mirrored Aviator Sunglasses (58)', 'UV Protection, Gradient Butterfly, Retro Square Sunglas...', 'UV Protection, Others Retro Square Sunglasses (Free Siz...', 'Polarized, Gradient, UV Protection Round Sunglasses (Fr...', 'UV Protection Retro Square Sunglasses (52)', 'UV Protection Retro Square Sunglasses (Free Size)', 'UV Protection, Polarized, Gradient Round, Wrap-around S...', 'Polarized Aviator Sunglasses (58)', 'Mirrored Aviator Sunglasses (59)', 'Others Rectangular Sunglasses (54)', 'Gradient, Mirrored, UV Protection Round, Round, Round S...', 'Gradient, Mirrored, UV Protection, Polarized Round, Rou...', 'Riding Glasses, UV Protection Oval Sunglasses (52)', 'Gradient, Mirrored, UV Protection Round, Round, Round S...', 'Gradient, Mirrored, UV Protection Aviator Sunglasses (F...', 'Polarized Wayfarer Sunglasses (51)', 'UV Protection Rectangular Sunglasses (Free Size)', 'UV Protection, Night Vision Retro Square Sunglasses (Fr...', 'UV Protection Wayfarer Sunglasses (Free Size)', 'Others Rectangular Sunglasses (51)', 'UV Protection Round Sunglasses (54)', 'UV Protection Spectacle Sunglasses (Free Size)', 'UV Protection, Polarized Retro Square Sunglasses (59)', 'UV Protection Round Sunglasses (Free Size)', 'Gradient, UV Protection Aviator Sunglasses (99)', 'UV Protection, Mirrored, Gradient Round Sunglasses (51)', 'Gradient Wayfarer Sunglasses (Free Size)', 'UV Protection Aviator Sunglasses (58)', 'Polarized Aviator Sunglasses (54)', 'UV Protection, Mirrored Retro Square Sunglasses (53)', 'Polarized Sports Sunglasses (63)', 'UV Protection Round Sunglasses (Free Size)', 'Polarized Sports Sunglasses (63)', 'UV Protection Oval Sunglasses (56)', 'UV Protection Retro Square Sunglasses (Free Size)', 'Gradient, UV Protection Wayfarer Sunglasses (Free Size)', 'Polarized Cat-eye Sunglasses (54)']\n",
      "\n",
      "\n",
      "['₹693', '₹636', '₹199', '₹161', '₹157', '₹188', '₹199', '₹286', '₹398', '₹247', '₹674', '₹470', '₹165', '₹165', '₹189', '₹379', '₹312', '₹165', '₹109', '₹470', '₹99', '₹188', '₹189', '₹239', '₹909', '₹128', '₹175', '₹636', '₹145', '₹399', '₹260', '₹693', '₹156', '₹175', '₹171', '₹549', '₹237', '₹299', '₹559', '₹549', '₹403', '₹116', '₹206', '₹693', '₹629', '₹168', '₹198', '₹195', '₹95', '₹159', '₹331', '₹636', '₹160', '₹687', '₹209', '₹286', '₹236', '₹179', '₹220', '₹470', '₹327', '₹209', '₹160', '₹470', '₹236', '₹379', '₹425', '₹246', '₹426', '₹239', '₹118', '₹282', '₹246', '₹636', '₹247', '₹140', '₹284', '₹221', '₹180', '₹693', '₹2,248', '₹2,070', '₹199', '₹161', '₹157', '₹188', '₹199', '₹567', '₹398', '₹247', '₹674', '₹2,655', '₹165', '₹165', '₹189', '₹516', '₹312', '₹165', '₹109', '₹470']\n",
      "\n",
      "\n",
      "['65% off', '60% off', '84% off', '83% off', '87% off', '87% off', '86% off', '79% off', '73% off', '87% off', '25% off', '52% off', '83% off', '87% off', '85% off', '74% off', '75% off', '86% off', '78% off', '52% off', '85% off', '76% off', '76% off', '80% off', '30% off', '87% off', '65% off', '60% off', '86% off', '80% off', '82% off', '65% off', '87% off', '82% off', '82% off', '72% off', '80% off', '83% off', '30% off', '72% off', '79% off', '88% off', '84% off', '65% off', '30% off', '87% off', '83% off', '80% off', '84% off', '88% off', '80% off', '60% off', '83% off', '14% off', '85% off', '79% off', '81% off', '88% off', '85% off', '52% off', '86% off', '85% off', '73% off', '52% off', '88% off', '74% off', '72% off', '83% off', '78% off', '80% off', '60% off', '85% off', '87% off', '60% off', '87% off', '85% off', '85% off', '82% off', '86% off', '65% off', '56% off', '52% off', '84% off', '83% off', '87% off', '87% off', '86% off', '71% off', '73% off', '87% off', '25% off', '55% off', '83% off', '87% off', '85% off', '60% off', '75% off', '86% off', '78% off', '52% off']\n"
     ]
    }
   ],
   "source": [
    "print(Brand[:100])\n",
    "print('\\n')\n",
    "print(Product_Description[:100])\n",
    "print('\\n')\n",
    "print(Price[:100])\n",
    "print('\\n')\n",
    "print(Discount[:100])"
   ]
  },
  {
   "cell_type": "markdown",
   "metadata": {},
   "source": [
    "### 7.100 reviews data from flipkart.com for iphone11 phone. "
   ]
  },
  {
   "cell_type": "code",
   "execution_count": 161,
   "metadata": {},
   "outputs": [],
   "source": [
    "import selenium\n",
    "from selenium import webdriver\n"
   ]
  },
  {
   "cell_type": "code",
   "execution_count": 162,
   "metadata": {},
   "outputs": [],
   "source": [
    "driver=webdriver.Chrome(r\"C:\\Users\\eshan\\Downloads\\chromedriver_win32\\chromedriver.exe\")"
   ]
  },
  {
   "cell_type": "code",
   "execution_count": 163,
   "metadata": {},
   "outputs": [],
   "source": [
    "url=\"https://www.flipkart.com/apple-iphone-11-black-64-gb-includes-earpods-power-adapter/p/itm0f37c2240b217?pid=MOBFKCTSVZAXUHGR&lid=LSTMOBFKCTSVZAXUHGREPBFGI&marketplace\""
   ]
  },
  {
   "cell_type": "code",
   "execution_count": 164,
   "metadata": {},
   "outputs": [],
   "source": [
    "driver.get(url)"
   ]
  },
  {
   "cell_type": "code",
   "execution_count": 165,
   "metadata": {},
   "outputs": [],
   "source": [
    "Rating=[]\n",
    "Review_summary=[]\n",
    "Full_review=[]"
   ]
  },
  {
   "cell_type": "code",
   "execution_count": 166,
   "metadata": {},
   "outputs": [],
   "source": [
    "rate=driver.find_elements_by_xpath(\"//div[@class='_3LWZlK _1BLPMq']\")\n",
    "review=driver.find_elements_by_xpath(\"//p[@class='_2-N8zT']\")\n",
    "full_review=driver.find_elements_by_xpath(\"//div[@class='t-ZTKy']//div//div\")\n",
    "\n",
    "\n",
    "for i in rate:\n",
    "    rat=i.text\n",
    "    Rating.append(rat)\n",
    "    \n",
    "for i in review:\n",
    "    rev=i.text\n",
    "    Review_summary.append(rev)\n",
    "    \n",
    "for i in full_review:\n",
    "    full=i.get_attribute(\"innerText\")\n",
    "    Full_review.append(full)\n",
    "    \n",
    " "
   ]
  },
  {
   "cell_type": "code",
   "execution_count": 170,
   "metadata": {},
   "outputs": [],
   "source": [
    "driver.find_element_by_xpath(\"//a[@class='_1LKTO3']\").click()"
   ]
  },
  {
   "cell_type": "code",
   "execution_count": 171,
   "metadata": {},
   "outputs": [],
   "source": [
    "rate=driver.find_elements_by_xpath(\"//div[@class='_3LWZlK _1BLPMq']\")\n",
    "review=driver.find_elements_by_xpath(\"//p[@class='_2-N8zT']\")\n",
    "full_review=driver.find_elements_by_xpath(\"//div[@class='t-ZTKy']//div//div\")\n",
    "\n",
    "\n",
    "for i in rate:\n",
    "    rat=i.text\n",
    "    Rating.append(rat)\n",
    "    \n",
    "for i in review:\n",
    "    rev=i.text\n",
    "    Review_summary.append(rev)\n",
    "    \n",
    "for i in full_review:\n",
    "    full=i.get_attribute(\"innerText\")\n",
    "    Full_review.append(full)\n",
    "    \n",
    "\n",
    " "
   ]
  },
  {
   "cell_type": "code",
   "execution_count": 172,
   "metadata": {},
   "outputs": [],
   "source": [
    "driver.find_element_by_xpath(\"//a[@class='_1LKTO3']\").click()"
   ]
  },
  {
   "cell_type": "code",
   "execution_count": 173,
   "metadata": {},
   "outputs": [],
   "source": [
    "rate=driver.find_elements_by_xpath(\"//div[@class='_3LWZlK _1BLPMq']\")\n",
    "review=driver.find_elements_by_xpath(\"//p[@class='_2-N8zT']\")\n",
    "full_review=driver.find_elements_by_xpath(\"//div[@class='t-ZTKy']//div//div\")\n",
    "\n",
    "\n",
    "for i in rate:\n",
    "    rat=i.text\n",
    "    Rating.append(rat)\n",
    "    \n",
    "for i in review:\n",
    "    rev=i.text\n",
    "    Review_summary.append(rev)\n",
    "    \n",
    "for i in full_review:\n",
    "    full=i.get_attribute(\"innerText\")\n",
    "    Full_review.append(full)\n",
    "    \n",
    "\n",
    " "
   ]
  },
  {
   "cell_type": "code",
   "execution_count": 174,
   "metadata": {},
   "outputs": [],
   "source": [
    "driver.find_element_by_xpath(\"//a[@class='_1LKTO3']\").click()"
   ]
  },
  {
   "cell_type": "code",
   "execution_count": 175,
   "metadata": {},
   "outputs": [],
   "source": [
    "rate=driver.find_elements_by_xpath(\"//div[@class='_3LWZlK _1BLPMq']\")\n",
    "review=driver.find_elements_by_xpath(\"//p[@class='_2-N8zT']\")\n",
    "full_review=driver.find_elements_by_xpath(\"//div[@class='t-ZTKy']//div//div\")\n",
    "\n",
    "\n",
    "for i in rate:\n",
    "    rat=i.text\n",
    "    Rating.append(rat)\n",
    "    \n",
    "for i in review:\n",
    "    rev=i.text\n",
    "    Review_summary.append(rev)\n",
    "    \n",
    "for i in full_review:\n",
    "    full=i.get_attribute(\"innerText\")\n",
    "    Full_review.append(full)\n",
    "    \n",
    "\n",
    " "
   ]
  },
  {
   "cell_type": "code",
   "execution_count": 176,
   "metadata": {},
   "outputs": [],
   "source": [
    "driver.find_element_by_xpath(\"//a[@class='_1LKTO3']\").click()"
   ]
  },
  {
   "cell_type": "code",
   "execution_count": 177,
   "metadata": {},
   "outputs": [],
   "source": [
    "rate=driver.find_elements_by_xpath(\"//div[@class='_3LWZlK _1BLPMq']\")\n",
    "review=driver.find_elements_by_xpath(\"//p[@class='_2-N8zT']\")\n",
    "full_review=driver.find_elements_by_xpath(\"//div[@class='t-ZTKy']//div//div\")\n",
    "\n",
    "\n",
    "for i in rate:\n",
    "    rat=i.text\n",
    "    Rating.append(rat)\n",
    "    \n",
    "for i in review:\n",
    "    rev=i.text\n",
    "    Review_summary.append(rev)\n",
    "    \n",
    "for i in full_review:\n",
    "    full=i.get_attribute(\"innerText\")\n",
    "    Full_review.append(full)\n",
    "    \n",
    "\n",
    " "
   ]
  },
  {
   "cell_type": "code",
   "execution_count": 178,
   "metadata": {},
   "outputs": [],
   "source": [
    "driver.find_element_by_xpath(\"//a[@class='_1LKTO3']\").click()"
   ]
  },
  {
   "cell_type": "code",
   "execution_count": 179,
   "metadata": {},
   "outputs": [],
   "source": [
    "rate=driver.find_elements_by_xpath(\"//div[@class='_3LWZlK _1BLPMq']\")\n",
    "review=driver.find_elements_by_xpath(\"//p[@class='_2-N8zT']\")\n",
    "full_review=driver.find_elements_by_xpath(\"//div[@class='t-ZTKy']//div//div\")\n",
    "\n",
    "\n",
    "for i in rate:\n",
    "    rat=i.text\n",
    "    Rating.append(rat)\n",
    "    \n",
    "for i in review:\n",
    "    rev=i.text\n",
    "    Review_summary.append(rev)\n",
    "    \n",
    "for i in full_review:\n",
    "    full=i.get_attribute(\"innerText\")\n",
    "    Full_review.append(full)\n",
    "    \n",
    "\n",
    " "
   ]
  },
  {
   "cell_type": "code",
   "execution_count": 180,
   "metadata": {},
   "outputs": [],
   "source": [
    "driver.find_element_by_xpath(\"//a[@class='_1LKTO3']\").click()"
   ]
  },
  {
   "cell_type": "code",
   "execution_count": 181,
   "metadata": {},
   "outputs": [],
   "source": [
    "rate=driver.find_elements_by_xpath(\"//div[@class='_3LWZlK _1BLPMq']\")\n",
    "review=driver.find_elements_by_xpath(\"//p[@class='_2-N8zT']\")\n",
    "full_review=driver.find_elements_by_xpath(\"//div[@class='t-ZTKy']//div//div\")\n",
    "\n",
    "\n",
    "for i in rate:\n",
    "    rat=i.text\n",
    "    Rating.append(rat)\n",
    "    \n",
    "for i in review:\n",
    "    rev=i.text\n",
    "    Review_summary.append(rev)\n",
    "    \n",
    "for i in full_review:\n",
    "    full=i.get_attribute(\"innerText\")\n",
    "    Full_review.append(full)\n",
    "    \n",
    "\n",
    " "
   ]
  },
  {
   "cell_type": "code",
   "execution_count": 182,
   "metadata": {},
   "outputs": [],
   "source": [
    "driver.find_element_by_xpath(\"//a[@class='_1LKTO3']\").click()"
   ]
  },
  {
   "cell_type": "code",
   "execution_count": 183,
   "metadata": {},
   "outputs": [],
   "source": [
    "rate=driver.find_elements_by_xpath(\"//div[@class='_3LWZlK _1BLPMq']\")\n",
    "review=driver.find_elements_by_xpath(\"//p[@class='_2-N8zT']\")\n",
    "full_review=driver.find_elements_by_xpath(\"//div[@class='t-ZTKy']//div//div\")\n",
    "\n",
    "\n",
    "for i in rate:\n",
    "    rat=i.text\n",
    "    Rating.append(rat)\n",
    "    \n",
    "for i in review:\n",
    "    rev=i.text\n",
    "    Review_summary.append(rev)\n",
    "    \n",
    "for i in full_review:\n",
    "    full=i.get_attribute(\"innerText\")\n",
    "    Full_review.append(full)\n",
    "    \n",
    "\n",
    " "
   ]
  },
  {
   "cell_type": "code",
   "execution_count": 184,
   "metadata": {},
   "outputs": [],
   "source": [
    "driver.find_element_by_xpath(\"//a[@class='_1LKTO3']\").click()"
   ]
  },
  {
   "cell_type": "code",
   "execution_count": 185,
   "metadata": {},
   "outputs": [],
   "source": [
    "rate=driver.find_elements_by_xpath(\"//div[@class='_3LWZlK _1BLPMq']\")\n",
    "review=driver.find_elements_by_xpath(\"//p[@class='_2-N8zT']\")\n",
    "full_review=driver.find_elements_by_xpath(\"//div[@class='t-ZTKy']//div//div\")\n",
    "\n",
    "\n",
    "for i in rate:\n",
    "    rat=i.text\n",
    "    Rating.append(rat)\n",
    "    \n",
    "for i in review:\n",
    "    rev=i.text\n",
    "    Review_summary.append(rev)\n",
    "    \n",
    "for i in full_review:\n",
    "    full=i.get_attribute(\"innerText\")\n",
    "    Full_review.append(full)\n",
    "    \n",
    "\n",
    " "
   ]
  },
  {
   "cell_type": "code",
   "execution_count": 186,
   "metadata": {},
   "outputs": [
    {
     "data": {
      "text/plain": [
       "['5',\n",
       " '5',\n",
       " '5',\n",
       " '',\n",
       " '',\n",
       " '',\n",
       " '',\n",
       " '',\n",
       " '',\n",
       " '',\n",
       " '5',\n",
       " '5',\n",
       " '5',\n",
       " '5',\n",
       " '5',\n",
       " '5',\n",
       " '5',\n",
       " '5',\n",
       " '5',\n",
       " '5',\n",
       " '5',\n",
       " '5',\n",
       " '5',\n",
       " '5',\n",
       " '5',\n",
       " '5',\n",
       " '5',\n",
       " '4',\n",
       " '5',\n",
       " '5',\n",
       " '5',\n",
       " '5',\n",
       " '5',\n",
       " '5',\n",
       " '5',\n",
       " '5',\n",
       " '5',\n",
       " '5',\n",
       " '5',\n",
       " '5',\n",
       " '5',\n",
       " '5',\n",
       " '5',\n",
       " '5',\n",
       " '5',\n",
       " '5',\n",
       " '4',\n",
       " '5',\n",
       " '5',\n",
       " '5',\n",
       " '5',\n",
       " '5',\n",
       " '5',\n",
       " '5',\n",
       " '5',\n",
       " '5',\n",
       " '5',\n",
       " '5',\n",
       " '5',\n",
       " '5',\n",
       " '5',\n",
       " '5',\n",
       " '5',\n",
       " '5',\n",
       " '5',\n",
       " '4',\n",
       " '5',\n",
       " '5',\n",
       " '5',\n",
       " '5',\n",
       " '5',\n",
       " '5',\n",
       " '5',\n",
       " '5',\n",
       " '5',\n",
       " '5',\n",
       " '5',\n",
       " '5',\n",
       " '5',\n",
       " '5',\n",
       " '5',\n",
       " '5',\n",
       " '5',\n",
       " '5',\n",
       " '4',\n",
       " '5']"
      ]
     },
     "execution_count": 186,
     "metadata": {},
     "output_type": "execute_result"
    }
   ],
   "source": [
    "Rating[:100]"
   ]
  },
  {
   "cell_type": "code",
   "execution_count": 187,
   "metadata": {},
   "outputs": [
    {
     "data": {
      "text/plain": [
       "['Perfect product!',\n",
       " 'Great product',\n",
       " 'Perfect product!',\n",
       " '',\n",
       " '',\n",
       " '',\n",
       " '',\n",
       " '',\n",
       " '',\n",
       " '',\n",
       " 'Terrific purchase',\n",
       " 'Wonderful',\n",
       " 'Great product',\n",
       " 'Mind-blowing purchase',\n",
       " 'Terrific purchase',\n",
       " 'Mind-blowing purchase',\n",
       " 'Simply awesome',\n",
       " 'Must buy!',\n",
       " 'Very poor',\n",
       " 'Classy product',\n",
       " 'Perfect product!',\n",
       " 'Great product',\n",
       " 'Perfect product!',\n",
       " 'Highly recommended',\n",
       " 'Perfect product!',\n",
       " 'Worth every penny',\n",
       " 'Worth every penny',\n",
       " 'Perfect product!',\n",
       " 'Nice product',\n",
       " 'Wonderful',\n",
       " 'Terrific purchase',\n",
       " 'Wonderful',\n",
       " 'Great product',\n",
       " 'Mind-blowing purchase',\n",
       " 'Terrific purchase',\n",
       " 'Mind-blowing purchase',\n",
       " 'Simply awesome',\n",
       " 'Must buy!',\n",
       " 'Very poor',\n",
       " 'Classy product',\n",
       " 'Perfect product!',\n",
       " 'Great product',\n",
       " 'Perfect product!',\n",
       " 'Highly recommended',\n",
       " 'Perfect product!',\n",
       " 'Worth every penny',\n",
       " 'Worth every penny',\n",
       " 'Perfect product!',\n",
       " 'Nice product',\n",
       " 'Wonderful',\n",
       " 'Terrific purchase',\n",
       " 'Wonderful',\n",
       " 'Great product',\n",
       " 'Mind-blowing purchase',\n",
       " 'Terrific purchase',\n",
       " 'Mind-blowing purchase',\n",
       " 'Simply awesome',\n",
       " 'Must buy!',\n",
       " 'Very poor',\n",
       " 'Classy product',\n",
       " 'Perfect product!',\n",
       " 'Great product',\n",
       " 'Perfect product!',\n",
       " 'Highly recommended',\n",
       " 'Perfect product!',\n",
       " 'Worth every penny',\n",
       " 'Worth every penny',\n",
       " 'Perfect product!',\n",
       " 'Nice product',\n",
       " 'Wonderful',\n",
       " 'Terrific purchase',\n",
       " 'Wonderful',\n",
       " 'Great product',\n",
       " 'Mind-blowing purchase',\n",
       " 'Terrific purchase',\n",
       " 'Mind-blowing purchase',\n",
       " 'Simply awesome',\n",
       " 'Must buy!',\n",
       " 'Very poor',\n",
       " 'Classy product',\n",
       " 'Perfect product!',\n",
       " 'Great product',\n",
       " 'Perfect product!',\n",
       " 'Highly recommended',\n",
       " 'Perfect product!',\n",
       " 'Worth every penny',\n",
       " 'Worth every penny',\n",
       " 'Perfect product!',\n",
       " 'Nice product',\n",
       " 'Wonderful']"
      ]
     },
     "execution_count": 187,
     "metadata": {},
     "output_type": "execute_result"
    }
   ],
   "source": [
    "Review_summary[:100]"
   ]
  },
  {
   "cell_type": "code",
   "execution_count": 188,
   "metadata": {},
   "outputs": [
    {
     "data": {
      "text/plain": [
       "['Amazing phone with great cameras and better battery which gives you the best performance. I just love the camera .',\n",
       " 'Amazing Powerful and Durable Gadget.\\n\\nI’m am very happy with the camera picture quality, Amazing face id unlocked in dark room, Strong battery with perfect screen size as you can carry easily in pocket. This is my third iPhone.\\n\\nI shifted from android Samsung Note series to iPhone because of the strong build quality and peace of mind for next 3-4 years.\\n\\nDon’t think to much just go for it and I suggest you to go for minimum 128gb variant or more 256gb.\\n\\nI’ve attached my puppy pics and no fi...',\n",
       " 'It’s a must buy who is looking for an upgrade from previous generation of iPhones. If you are using XR then still you can hold on for sometime and upgrade to 2020 model else this phone is a must buy . Camera quality is amazing and wide angle is something to count upon. Performance wise it’s amazing and feels premium while holding in hand. So a big YES for this device. Go for 128 GB variant as the 4K videos will occupy lots of space and the storage can get over very quickly. Try to buy it with...',\n",
       " 'iphone 11 is a very good phone to buy only if you can compromise for the display. The display on this is device is pretty good but you can get other options with better displays in this price segment.If you can survive with an HD+ LCD panel with thicker bezels and a notch up top then this is a very good phone for you.Cameras are awesome, battery backup excellent, great performance and a decent premium look. Good job Apple !',\n",
       " 'Value for money❤️❤️Its awesome mobile phone in the world ...Display was very good and bright ..Trust me freinds you r never regret after Buying..Just go for it....I love this phone and i switch to iphone x to 11',\n",
       " 'Best budget Iphone till date ❤️ go for it guys without second thought. Let me explain you guys about Camera, Display, battery, and performance. Camera: at this price range there is no comparison of camera, you’ll love the picture quality as well as video quality. I am a Vlogger I wanted an iPhone with 4k video by front camera and I got this phone and I am more than happy 😃 Battery: I use this phone roughly as I am active social media person and I have a youtube channel. so the battery ba...',\n",
       " 'It’s been almost a month since I have been using this phone. I upgraded from an iPhone 8. The main issue with my 8 was battery and this phone is just awesome when it comes to battery. It lasts a day and a half for me with my regular use , internet connected always with 4g Can’t move forward without saying this. Battery of this phone is a life saver when I am traveling or at work when I don’t get the option to charge Camera is superb. Front cam selfies and back cam photos are just awesome. ...',\n",
       " \"Iphone is just awesome.. battery backup is very very nice.. continuously for 10 hours we can use it.camera is just awesome.. display is just fab.i love it alot..i had to wait 15 days for it as i pre ordered it..overalll it's worth the price..these all images are clicked by my iPhone..and i love it.\",\n",
       " 'Awesome Phone. Slightly high price but worth. Better than iPhone XR. Camera is superb and wide angle camera is very clear. 12MP selfie camera is also very good. A13 Chip gives a very good and smooth performance.',\n",
       " '*Review after 10 months of usage*Doesn\\'t seem bulky with decent touch and camera. The \"standard maintained\" quality of IPhone. Go for it, if your budget is not more enough for pro models. It\\'s a value for money among the 11 series Stereo speakers are so good, you will love the stereo sound. Battery backup is not decent but still better than Iphone 7 and 8.Processor is fast, the phone doesn\\'t lag at all even with heavy games, waterproof, faster face id and with no fingerprint scanners. The ca...',\n",
       " 'Upgraded from iphone 6 to 11 best phone for iphone users battery is much better than other iphones camera is awesome love to use it.camera is so clear in night.',\n",
       " 'This is my first ever I phone. Before this I was using my google nexus 5. But moving from android to iOS is a great experience. It’s worth at this price. I will highly recommend it if you want to move to iOS. The best part of this phone is it’s camera and it’s battery life. This two things have won my heart. I loved it. Happy to have it in my hand. Still exploring its features. And can’t forget to mention Flipkart service. Very prompt service and fast delivery.',\n",
       " 'Well you all know the specifications . One of a kind. Best iPhone till date. Many enhancements to the camera app with many options. Love the glass body with matte finish in the lens area on the back. Lovely colours to choose from. Best battery in an iPhone till date, enough to last more than a day in normal usage. I tested my iPhone 11 battery and lasted for than 24 hours after full charge still with 30% battery charge left. Watched movies for some time. Normal usage on calls, browsing, musi...',\n",
       " 'This will help you more. See if you are planning to buy iPhone 11. I will say. Yes. But there are some plans I just want to disclose before you buy. 1) If you are an existing iPhone X/XS/XS Max/ XR user, better you guys do not think it to buy. You guys have more or less better gadget. 2) If you are an android user and planning to buy premium phone. I will suggest them to please buy iPhone instead of buying an Android. I bet you will never go back to android after using IOS. Now I want to shar...',\n",
       " 'The built quality is not very premium.\\nThe battery back is great .\\nThe LCD panel is not so sharp but the brightness level is very High .\\nCamera is super duper awesome.\\nThe red colour which people think is bright is actually very soothing and excellent colour to choose from .\\nThe A13 Bionic chip is really a flagship processor and can beat any phone which even has 12 gb ram .\\nCamera module is very great and looks very stylish.',\n",
       " 'First thanks to Flipkart for this amazing deal and phone is outstanding. I upgraded from iPhone 7 and this is like very big upgrade. But the packaging was very basic I expected a good packaging as they only wrapped one layer of bubble wrap which I don’t think is enough to protect this expensive phone. And I recommend this phone and seller as well.\\n\\nAnd I’m posting this review after using it for 4 days.',\n",
       " 'Excellent camera, good performance, no lag. The lcd display is also good.. but difference come when we watch movie in prime and Netflix, the colours are not vibrant.. as we see in amoled display.. and the charger in box is of 5 watts.. takes more than 3 hours to charge from 0 to 100.. so guys be prepare to buy 18 watts charger . Finally I am an android user, it was my first Iapple phone, I promise u guys the iOS is so smooth.. overall the phone is damn good.... close eyes to buy it.. thanks t...',\n",
       " 'It’s an amazing product from apple and the camera is simply superb. Phone is faster.Night shot is simply superb and detailing and colour differentiation from camera is an added advantage\\n\\nThis review I have written from iPhone 11 only and I am glad to say outside.\\n\\nCons wise if we see HD+ display only, no battery percentage indicator as in older iPhone 8.\\nNo assistive touch control button in it\\nNo oleophobic coating on back panel glass and finger prints are visible but since I bought mint gr...',\n",
       " 'Reviewing again after 5 months. At the beginning the battery and performance was good but it degraded soon. Also I was facing heating issues. The mobile will heat up like a stove sometimes. You cannot even play Pubg even in low settings properly, performance is not a problem but heating is. Also if you play that game for 10 mins the brightness will be automatically down due to over heating even when the auto brightness is set to off. This will not be solved even if u manually increase the bri...',\n",
       " 'Well while switching from android to iOS the first thing you need to be careful about is that you will loose all your whatsapp chat backups as both are different operating systems. Camera clarity is awesome and though being an lcd screen clarity and resolution is good. Battery backup is also good unlike previous gen iPhone. So far the experience is good will Padre after a few months of usage.\\n\\nP.S the black is more of a dark grey shade and not jet black',\n",
       " 'Amazing phone with great cameras and better battery which gives you the best performance. I just love the camera .',\n",
       " 'Amazing Powerful and Durable Gadget.\\n\\nI’m am very happy with the camera picture quality, Amazing face id unlocked in dark room, Strong battery with perfect screen size as you can carry easily in pocket. This is my third iPhone.\\n\\nI shifted from android Samsung Note series to iPhone because of the strong build quality and peace of mind for next 3-4 years.\\n\\nDon’t think to much just go for it and I suggest you to go for minimum 128gb variant or more 256gb.\\n\\nI’ve attached my puppy pics and no fi...',\n",
       " 'It’s a must buy who is looking for an upgrade from previous generation of iPhones. If you are using XR then still you can hold on for sometime and upgrade to 2020 model else this phone is a must buy . Camera quality is amazing and wide angle is something to count upon. Performance wise it’s amazing and feels premium while holding in hand. So a big YES for this device. Go for 128 GB variant as the 4K videos will occupy lots of space and the storage can get over very quickly. Try to buy it with...',\n",
       " 'iphone 11 is a very good phone to buy only if you can compromise for the display. The display on this is device is pretty good but you can get other options with better displays in this price segment.\\nIf you can survive with an HD+ LCD panel with thicker bezels and a notch up top then this is a very good phone for you.\\nCameras are awesome, battery backup excellent, great performance and a decent premium look. Good job Apple !',\n",
       " 'Value for money❤️❤️\\nIts awesome mobile phone in the world ...\\nDisplay was very good and bright ..\\nTrust me freinds you r never regret after Buying..\\nJust go for it....\\nI love this phone and i switch to iphone x to 11',\n",
       " 'Best budget Iphone till date ❤️ go for it guys without second thought. Let me explain you guys about Camera, Display, battery, and performance.\\n\\nCamera: at this price range there is no comparison of camera, you’ll love the picture quality as well as video quality. I am a Vlogger I wanted an iPhone with 4k video by front camera and I got this phone and I am more than happy 😃\\n\\nBattery: I use this phone roughly as I am active social media person and I have a youtube channel. so the battery ba...',\n",
       " 'It’s been almost a month since I have been using this phone. I upgraded from an iPhone 8. The main issue with my 8 was battery and this phone is just awesome when it comes to battery. It lasts a day and a half for me with my regular use , internet connected always with 4g\\nCan’t move forward without saying this. Battery of this phone is a life saver when I am traveling or at work when I don’t get the option to charge\\nCamera is superb. Front cam selfies and back cam photos are just awesome.\\n...',\n",
       " \"Iphone is just awesome.. battery backup is very very nice.. continuously for 10 hours we can use it.camera is just awesome.. display is just fab.i love it alot..i had to wait 15 days for it as i pre ordered it..overalll it's worth the price..these all images are clicked by my iPhone..and i love it.\",\n",
       " 'Awesome Phone. Slightly high price but worth. Better than iPhone XR.\\nCamera is superb and wide angle camera is very clear.\\n12MP selfie camera is also very good.\\nA13 Chip gives a very good and smooth performance.',\n",
       " '*Review after 10 months of usage*\\nDoesn\\'t seem bulky with decent touch and camera. The \"standard maintained\" quality of IPhone. Go for it, if your budget is not more enough for pro models. It\\'s a value for money among the 11 series Stereo speakers are so good, you will love the stereo sound. Battery backup is not decent but still better than Iphone 7 and 8.Processor is fast, the phone doesn\\'t lag at all even with heavy games, waterproof, faster face id and with no fingerprint scanners. The ca...',\n",
       " 'Upgraded from iphone 6 to 11 best phone for iphone users battery is much better than other iphones camera is awesome love to use it.camera is so clear in night.',\n",
       " 'This is my first ever I phone. Before this I was using my google nexus 5. But moving from android to iOS is a great experience. It’s worth at this price. I will highly recommend it if you want to move to iOS. The best part of this phone is it’s camera and it’s battery life. This two things have won my heart. I loved it. Happy to have it in my hand. Still exploring its features. And can’t forget to mention Flipkart service. Very prompt service and fast delivery.',\n",
       " 'Well you all know the specifications . One of a kind. Best iPhone till date. Many enhancements to the camera app with many options. Love the glass body with matte finish in the lens area on the back. Lovely colours to choose from. Best battery in an iPhone till date, enough to last more than a day in normal usage. I tested my iPhone 11 battery and lasted for than 24 hours after full charge still with 30% battery charge left. Watched movies for some time. Normal usage on calls, browsing, musi...',\n",
       " 'This will help you more. See if you are planning to buy iPhone 11. I will say. Yes. But there are some plans I just want to disclose before you buy. 1) If you are an existing iPhone X/XS/XS Max/ XR user, better you guys do not think it to buy. You guys have more or less better gadget. 2) If you are an android user and planning to buy premium phone. I will suggest them to please buy iPhone instead of buying an Android. I bet you will never go back to android after using IOS. Now I want to shar...',\n",
       " 'The built quality is not very premium.\\nThe battery back is great .\\nThe LCD panel is not so sharp but the brightness level is very High .\\nCamera is super duper awesome.\\nThe red colour which people think is bright is actually very soothing and excellent colour to choose from .\\nThe A13 Bionic chip is really a flagship processor and can beat any phone which even has 12 gb ram .\\nCamera module is very great and looks very stylish.',\n",
       " 'First thanks to Flipkart for this amazing deal and phone is outstanding. I upgraded from iPhone 7 and this is like very big upgrade. But the packaging was very basic I expected a good packaging as they only wrapped one layer of bubble wrap which I don’t think is enough to protect this expensive phone. And I recommend this phone and seller as well.\\n\\nAnd I’m posting this review after using it for 4 days.',\n",
       " 'Excellent camera, good performance, no lag. The lcd display is also good.. but difference come when we watch movie in prime and Netflix, the colours are not vibrant.. as we see in amoled display.. and the charger in box is of 5 watts.. takes more than 3 hours to charge from 0 to 100.. so guys be prepare to buy 18 watts charger . Finally I am an android user, it was my first Iapple phone, I promise u guys the iOS is so smooth.. overall the phone is damn good.... close eyes to buy it.. thanks t...',\n",
       " 'It’s an amazing product from apple and the camera is simply superb. Phone is faster.Night shot is simply superb and detailing and colour differentiation from camera is an added advantage\\n\\nThis review I have written from iPhone 11 only and I am glad to say outside.\\n\\nCons wise if we see HD+ display only, no battery percentage indicator as in older iPhone 8.\\nNo assistive touch control button in it\\nNo oleophobic coating on back panel glass and finger prints are visible but since I bought mint gr...',\n",
       " 'Reviewing again after 5 months. At the beginning the battery and performance was good but it degraded soon. Also I was facing heating issues. The mobile will heat up like a stove sometimes. You cannot even play Pubg even in low settings properly, performance is not a problem but heating is. Also if you play that game for 10 mins the brightness will be automatically down due to over heating even when the auto brightness is set to off. This will not be solved even if u manually increase the bri...',\n",
       " 'Well while switching from android to iOS the first thing you need to be careful about is that you will loose all your whatsapp chat backups as both are different operating systems. Camera clarity is awesome and though being an lcd screen clarity and resolution is good. Battery backup is also good unlike previous gen iPhone. So far the experience is good will Padre after a few months of usage.\\n\\nP.S the black is more of a dark grey shade and not jet black',\n",
       " 'Amazing phone with great cameras and better battery which gives you the best performance. I just love the camera .',\n",
       " 'Amazing Powerful and Durable Gadget.\\n\\nI’m am very happy with the camera picture quality, Amazing face id unlocked in dark room, Strong battery with perfect screen size as you can carry easily in pocket. This is my third iPhone.\\n\\nI shifted from android Samsung Note series to iPhone because of the strong build quality and peace of mind for next 3-4 years.\\n\\nDon’t think to much just go for it and I suggest you to go for minimum 128gb variant or more 256gb.\\n\\nI’ve attached my puppy pics and no fi...',\n",
       " 'It’s a must buy who is looking for an upgrade from previous generation of iPhones. If you are using XR then still you can hold on for sometime and upgrade to 2020 model else this phone is a must buy . Camera quality is amazing and wide angle is something to count upon. Performance wise it’s amazing and feels premium while holding in hand. So a big YES for this device. Go for 128 GB variant as the 4K videos will occupy lots of space and the storage can get over very quickly. Try to buy it with...',\n",
       " 'iphone 11 is a very good phone to buy only if you can compromise for the display. The display on this is device is pretty good but you can get other options with better displays in this price segment.\\nIf you can survive with an HD+ LCD panel with thicker bezels and a notch up top then this is a very good phone for you.\\nCameras are awesome, battery backup excellent, great performance and a decent premium look. Good job Apple !',\n",
       " 'Value for money❤️❤️\\nIts awesome mobile phone in the world ...\\nDisplay was very good and bright ..\\nTrust me freinds you r never regret after Buying..\\nJust go for it....\\nI love this phone and i switch to iphone x to 11',\n",
       " 'Best budget Iphone till date ❤️ go for it guys without second thought. Let me explain you guys about Camera, Display, battery, and performance.\\n\\nCamera: at this price range there is no comparison of camera, you’ll love the picture quality as well as video quality. I am a Vlogger I wanted an iPhone with 4k video by front camera and I got this phone and I am more than happy 😃\\n\\nBattery: I use this phone roughly as I am active social media person and I have a youtube channel. so the battery ba...',\n",
       " 'It’s been almost a month since I have been using this phone. I upgraded from an iPhone 8. The main issue with my 8 was battery and this phone is just awesome when it comes to battery. It lasts a day and a half for me with my regular use , internet connected always with 4g\\nCan’t move forward without saying this. Battery of this phone is a life saver when I am traveling or at work when I don’t get the option to charge\\nCamera is superb. Front cam selfies and back cam photos are just awesome.\\n...',\n",
       " \"Iphone is just awesome.. battery backup is very very nice.. continuously for 10 hours we can use it.camera is just awesome.. display is just fab.i love it alot..i had to wait 15 days for it as i pre ordered it..overalll it's worth the price..these all images are clicked by my iPhone..and i love it.\",\n",
       " 'Awesome Phone. Slightly high price but worth. Better than iPhone XR.\\nCamera is superb and wide angle camera is very clear.\\n12MP selfie camera is also very good.\\nA13 Chip gives a very good and smooth performance.',\n",
       " '*Review after 10 months of usage*\\nDoesn\\'t seem bulky with decent touch and camera. The \"standard maintained\" quality of IPhone. Go for it, if your budget is not more enough for pro models. It\\'s a value for money among the 11 series Stereo speakers are so good, you will love the stereo sound. Battery backup is not decent but still better than Iphone 7 and 8.Processor is fast, the phone doesn\\'t lag at all even with heavy games, waterproof, faster face id and with no fingerprint scanners. The ca...',\n",
       " 'Upgraded from iphone 6 to 11 best phone for iphone users battery is much better than other iphones camera is awesome love to use it.camera is so clear in night.',\n",
       " 'This is my first ever I phone. Before this I was using my google nexus 5. But moving from android to iOS is a great experience. It’s worth at this price. I will highly recommend it if you want to move to iOS. The best part of this phone is it’s camera and it’s battery life. This two things have won my heart. I loved it. Happy to have it in my hand. Still exploring its features. And can’t forget to mention Flipkart service. Very prompt service and fast delivery.',\n",
       " 'Well you all know the specifications . One of a kind. Best iPhone till date. Many enhancements to the camera app with many options. Love the glass body with matte finish in the lens area on the back. Lovely colours to choose from. Best battery in an iPhone till date, enough to last more than a day in normal usage. I tested my iPhone 11 battery and lasted for than 24 hours after full charge still with 30% battery charge left. Watched movies for some time. Normal usage on calls, browsing, musi...',\n",
       " 'This will help you more. See if you are planning to buy iPhone 11. I will say. Yes. But there are some plans I just want to disclose before you buy. 1) If you are an existing iPhone X/XS/XS Max/ XR user, better you guys do not think it to buy. You guys have more or less better gadget. 2) If you are an android user and planning to buy premium phone. I will suggest them to please buy iPhone instead of buying an Android. I bet you will never go back to android after using IOS. Now I want to shar...',\n",
       " 'The built quality is not very premium.\\nThe battery back is great .\\nThe LCD panel is not so sharp but the brightness level is very High .\\nCamera is super duper awesome.\\nThe red colour which people think is bright is actually very soothing and excellent colour to choose from .\\nThe A13 Bionic chip is really a flagship processor and can beat any phone which even has 12 gb ram .\\nCamera module is very great and looks very stylish.',\n",
       " 'First thanks to Flipkart for this amazing deal and phone is outstanding. I upgraded from iPhone 7 and this is like very big upgrade. But the packaging was very basic I expected a good packaging as they only wrapped one layer of bubble wrap which I don’t think is enough to protect this expensive phone. And I recommend this phone and seller as well.\\n\\nAnd I’m posting this review after using it for 4 days.',\n",
       " 'Excellent camera, good performance, no lag. The lcd display is also good.. but difference come when we watch movie in prime and Netflix, the colours are not vibrant.. as we see in amoled display.. and the charger in box is of 5 watts.. takes more than 3 hours to charge from 0 to 100.. so guys be prepare to buy 18 watts charger . Finally I am an android user, it was my first Iapple phone, I promise u guys the iOS is so smooth.. overall the phone is damn good.... close eyes to buy it.. thanks t...',\n",
       " 'It’s an amazing product from apple and the camera is simply superb. Phone is faster.Night shot is simply superb and detailing and colour differentiation from camera is an added advantage\\n\\nThis review I have written from iPhone 11 only and I am glad to say outside.\\n\\nCons wise if we see HD+ display only, no battery percentage indicator as in older iPhone 8.\\nNo assistive touch control button in it\\nNo oleophobic coating on back panel glass and finger prints are visible but since I bought mint gr...',\n",
       " 'Reviewing again after 5 months. At the beginning the battery and performance was good but it degraded soon. Also I was facing heating issues. The mobile will heat up like a stove sometimes. You cannot even play Pubg even in low settings properly, performance is not a problem but heating is. Also if you play that game for 10 mins the brightness will be automatically down due to over heating even when the auto brightness is set to off. This will not be solved even if u manually increase the bri...',\n",
       " 'Well while switching from android to iOS the first thing you need to be careful about is that you will loose all your whatsapp chat backups as both are different operating systems. Camera clarity is awesome and though being an lcd screen clarity and resolution is good. Battery backup is also good unlike previous gen iPhone. So far the experience is good will Padre after a few months of usage.\\n\\nP.S the black is more of a dark grey shade and not jet black',\n",
       " 'Amazing phone with great cameras and better battery which gives you the best performance. I just love the camera .',\n",
       " 'Amazing Powerful and Durable Gadget.\\n\\nI’m am very happy with the camera picture quality, Amazing face id unlocked in dark room, Strong battery with perfect screen size as you can carry easily in pocket. This is my third iPhone.\\n\\nI shifted from android Samsung Note series to iPhone because of the strong build quality and peace of mind for next 3-4 years.\\n\\nDon’t think to much just go for it and I suggest you to go for minimum 128gb variant or more 256gb.\\n\\nI’ve attached my puppy pics and no fi...',\n",
       " 'It’s a must buy who is looking for an upgrade from previous generation of iPhones. If you are using XR then still you can hold on for sometime and upgrade to 2020 model else this phone is a must buy . Camera quality is amazing and wide angle is something to count upon. Performance wise it’s amazing and feels premium while holding in hand. So a big YES for this device. Go for 128 GB variant as the 4K videos will occupy lots of space and the storage can get over very quickly. Try to buy it with...',\n",
       " 'iphone 11 is a very good phone to buy only if you can compromise for the display. The display on this is device is pretty good but you can get other options with better displays in this price segment.\\nIf you can survive with an HD+ LCD panel with thicker bezels and a notch up top then this is a very good phone for you.\\nCameras are awesome, battery backup excellent, great performance and a decent premium look. Good job Apple !',\n",
       " 'Value for money❤️❤️\\nIts awesome mobile phone in the world ...\\nDisplay was very good and bright ..\\nTrust me freinds you r never regret after Buying..\\nJust go for it....\\nI love this phone and i switch to iphone x to 11',\n",
       " 'Best budget Iphone till date ❤️ go for it guys without second thought. Let me explain you guys about Camera, Display, battery, and performance.\\n\\nCamera: at this price range there is no comparison of camera, you’ll love the picture quality as well as video quality. I am a Vlogger I wanted an iPhone with 4k video by front camera and I got this phone and I am more than happy 😃\\n\\nBattery: I use this phone roughly as I am active social media person and I have a youtube channel. so the battery ba...',\n",
       " 'It’s been almost a month since I have been using this phone. I upgraded from an iPhone 8. The main issue with my 8 was battery and this phone is just awesome when it comes to battery. It lasts a day and a half for me with my regular use , internet connected always with 4g\\nCan’t move forward without saying this. Battery of this phone is a life saver when I am traveling or at work when I don’t get the option to charge\\nCamera is superb. Front cam selfies and back cam photos are just awesome.\\n...',\n",
       " \"Iphone is just awesome.. battery backup is very very nice.. continuously for 10 hours we can use it.camera is just awesome.. display is just fab.i love it alot..i had to wait 15 days for it as i pre ordered it..overalll it's worth the price..these all images are clicked by my iPhone..and i love it.\",\n",
       " 'Awesome Phone. Slightly high price but worth. Better than iPhone XR.\\nCamera is superb and wide angle camera is very clear.\\n12MP selfie camera is also very good.\\nA13 Chip gives a very good and smooth performance.',\n",
       " '*Review after 10 months of usage*\\nDoesn\\'t seem bulky with decent touch and camera. The \"standard maintained\" quality of IPhone. Go for it, if your budget is not more enough for pro models. It\\'s a value for money among the 11 series Stereo speakers are so good, you will love the stereo sound. Battery backup is not decent but still better than Iphone 7 and 8.Processor is fast, the phone doesn\\'t lag at all even with heavy games, waterproof, faster face id and with no fingerprint scanners. The ca...',\n",
       " 'Upgraded from iphone 6 to 11 best phone for iphone users battery is much better than other iphones camera is awesome love to use it.camera is so clear in night.',\n",
       " 'This is my first ever I phone. Before this I was using my google nexus 5. But moving from android to iOS is a great experience. It’s worth at this price. I will highly recommend it if you want to move to iOS. The best part of this phone is it’s camera and it’s battery life. This two things have won my heart. I loved it. Happy to have it in my hand. Still exploring its features. And can’t forget to mention Flipkart service. Very prompt service and fast delivery.',\n",
       " 'Well you all know the specifications . One of a kind. Best iPhone till date. Many enhancements to the camera app with many options. Love the glass body with matte finish in the lens area on the back. Lovely colours to choose from. Best battery in an iPhone till date, enough to last more than a day in normal usage. I tested my iPhone 11 battery and lasted for than 24 hours after full charge still with 30% battery charge left. Watched movies for some time. Normal usage on calls, browsing, musi...',\n",
       " 'This will help you more. See if you are planning to buy iPhone 11. I will say. Yes. But there are some plans I just want to disclose before you buy. 1) If you are an existing iPhone X/XS/XS Max/ XR user, better you guys do not think it to buy. You guys have more or less better gadget. 2) If you are an android user and planning to buy premium phone. I will suggest them to please buy iPhone instead of buying an Android. I bet you will never go back to android after using IOS. Now I want to shar...',\n",
       " 'The built quality is not very premium.\\nThe battery back is great .\\nThe LCD panel is not so sharp but the brightness level is very High .\\nCamera is super duper awesome.\\nThe red colour which people think is bright is actually very soothing and excellent colour to choose from .\\nThe A13 Bionic chip is really a flagship processor and can beat any phone which even has 12 gb ram .\\nCamera module is very great and looks very stylish.',\n",
       " 'First thanks to Flipkart for this amazing deal and phone is outstanding. I upgraded from iPhone 7 and this is like very big upgrade. But the packaging was very basic I expected a good packaging as they only wrapped one layer of bubble wrap which I don’t think is enough to protect this expensive phone. And I recommend this phone and seller as well.\\n\\nAnd I’m posting this review after using it for 4 days.',\n",
       " 'Excellent camera, good performance, no lag. The lcd display is also good.. but difference come when we watch movie in prime and Netflix, the colours are not vibrant.. as we see in amoled display.. and the charger in box is of 5 watts.. takes more than 3 hours to charge from 0 to 100.. so guys be prepare to buy 18 watts charger . Finally I am an android user, it was my first Iapple phone, I promise u guys the iOS is so smooth.. overall the phone is damn good.... close eyes to buy it.. thanks t...',\n",
       " 'It’s an amazing product from apple and the camera is simply superb. Phone is faster.Night shot is simply superb and detailing and colour differentiation from camera is an added advantage\\n\\nThis review I have written from iPhone 11 only and I am glad to say outside.\\n\\nCons wise if we see HD+ display only, no battery percentage indicator as in older iPhone 8.\\nNo assistive touch control button in it\\nNo oleophobic coating on back panel glass and finger prints are visible but since I bought mint gr...',\n",
       " 'Reviewing again after 5 months. At the beginning the battery and performance was good but it degraded soon. Also I was facing heating issues. The mobile will heat up like a stove sometimes. You cannot even play Pubg even in low settings properly, performance is not a problem but heating is. Also if you play that game for 10 mins the brightness will be automatically down due to over heating even when the auto brightness is set to off. This will not be solved even if u manually increase the bri...',\n",
       " 'Well while switching from android to iOS the first thing you need to be careful about is that you will loose all your whatsapp chat backups as both are different operating systems. Camera clarity is awesome and though being an lcd screen clarity and resolution is good. Battery backup is also good unlike previous gen iPhone. So far the experience is good will Padre after a few months of usage.\\n\\nP.S the black is more of a dark grey shade and not jet black',\n",
       " 'Amazing phone with great cameras and better battery which gives you the best performance. I just love the camera .',\n",
       " 'Amazing Powerful and Durable Gadget.\\n\\nI’m am very happy with the camera picture quality, Amazing face id unlocked in dark room, Strong battery with perfect screen size as you can carry easily in pocket. This is my third iPhone.\\n\\nI shifted from android Samsung Note series to iPhone because of the strong build quality and peace of mind for next 3-4 years.\\n\\nDon’t think to much just go for it and I suggest you to go for minimum 128gb variant or more 256gb.\\n\\nI’ve attached my puppy pics and no fi...',\n",
       " 'It’s a must buy who is looking for an upgrade from previous generation of iPhones. If you are using XR then still you can hold on for sometime and upgrade to 2020 model else this phone is a must buy . Camera quality is amazing and wide angle is something to count upon. Performance wise it’s amazing and feels premium while holding in hand. So a big YES for this device. Go for 128 GB variant as the 4K videos will occupy lots of space and the storage can get over very quickly. Try to buy it with...',\n",
       " 'iphone 11 is a very good phone to buy only if you can compromise for the display. The display on this is device is pretty good but you can get other options with better displays in this price segment.\\nIf you can survive with an HD+ LCD panel with thicker bezels and a notch up top then this is a very good phone for you.\\nCameras are awesome, battery backup excellent, great performance and a decent premium look. Good job Apple !',\n",
       " 'Value for money❤️❤️\\nIts awesome mobile phone in the world ...\\nDisplay was very good and bright ..\\nTrust me freinds you r never regret after Buying..\\nJust go for it....\\nI love this phone and i switch to iphone x to 11',\n",
       " 'Best budget Iphone till date ❤️ go for it guys without second thought. Let me explain you guys about Camera, Display, battery, and performance.\\n\\nCamera: at this price range there is no comparison of camera, you’ll love the picture quality as well as video quality. I am a Vlogger I wanted an iPhone with 4k video by front camera and I got this phone and I am more than happy 😃\\n\\nBattery: I use this phone roughly as I am active social media person and I have a youtube channel. so the battery ba...',\n",
       " 'It’s been almost a month since I have been using this phone. I upgraded from an iPhone 8. The main issue with my 8 was battery and this phone is just awesome when it comes to battery. It lasts a day and a half for me with my regular use , internet connected always with 4g\\nCan’t move forward without saying this. Battery of this phone is a life saver when I am traveling or at work when I don’t get the option to charge\\nCamera is superb. Front cam selfies and back cam photos are just awesome.\\n...',\n",
       " \"Iphone is just awesome.. battery backup is very very nice.. continuously for 10 hours we can use it.camera is just awesome.. display is just fab.i love it alot..i had to wait 15 days for it as i pre ordered it..overalll it's worth the price..these all images are clicked by my iPhone..and i love it.\",\n",
       " 'Awesome Phone. Slightly high price but worth. Better than iPhone XR.\\nCamera is superb and wide angle camera is very clear.\\n12MP selfie camera is also very good.\\nA13 Chip gives a very good and smooth performance.',\n",
       " '*Review after 10 months of usage*\\nDoesn\\'t seem bulky with decent touch and camera. The \"standard maintained\" quality of IPhone. Go for it, if your budget is not more enough for pro models. It\\'s a value for money among the 11 series Stereo speakers are so good, you will love the stereo sound. Battery backup is not decent but still better than Iphone 7 and 8.Processor is fast, the phone doesn\\'t lag at all even with heavy games, waterproof, faster face id and with no fingerprint scanners. The ca...']"
      ]
     },
     "execution_count": 188,
     "metadata": {},
     "output_type": "execute_result"
    }
   ],
   "source": [
    "Full_review[:100]"
   ]
  },
  {
   "cell_type": "markdown",
   "metadata": {},
   "source": [
    "### 8.Data for first 100 sneakers you find when you visit flipkart.com and search for “sneakers” in the search field."
   ]
  },
  {
   "cell_type": "code",
   "execution_count": 189,
   "metadata": {},
   "outputs": [],
   "source": [
    "import selenium\n",
    "from selenium import webdriver"
   ]
  },
  {
   "cell_type": "code",
   "execution_count": 190,
   "metadata": {},
   "outputs": [],
   "source": [
    "driver=webdriver.Chrome(r\"C:\\Users\\eshan\\Downloads\\chromedriver_win32\\chromedriver.exe\")"
   ]
  },
  {
   "cell_type": "code",
   "execution_count": 191,
   "metadata": {},
   "outputs": [],
   "source": [
    "url=\"https://www.flipkart.com/search?q=sneakers&as=on&as-show=on&otracker=AS_Query_HistoryAutoSuggest_1_8_na_na_na&otracker1=AS_Query_HistoryAutoSuggest_1_8_na_na_na&as-pos=1&as-type=HISTORY&suggestionId=sneakers&requestId=824e1231-3923-474e-8be4-8abeeb216283&as-searchtext=sneakers\""
   ]
  },
  {
   "cell_type": "code",
   "execution_count": 192,
   "metadata": {},
   "outputs": [],
   "source": [
    "driver.get(url)"
   ]
  },
  {
   "cell_type": "code",
   "execution_count": 193,
   "metadata": {},
   "outputs": [],
   "source": [
    "Brand=[]\n",
    "Product_Description=[]\n",
    "Price=[]\n",
    "Discount=[]"
   ]
  },
  {
   "cell_type": "code",
   "execution_count": 194,
   "metadata": {},
   "outputs": [],
   "source": [
    "brand=driver.find_elements_by_xpath(\"//div[@class='_2WkVRV']\")\n",
    "product=driver.find_elements_by_xpath(\"//a[@class='IRpwTa _2-ICcC']\")\n",
    "product_des=driver.find_elements_by_xpath(\"//a[@class='IRpwTa']\")\n",
    "price=driver.find_elements_by_xpath(\"//div[@class='_30jeq3']\")\n",
    "discount=driver.find_elements_by_xpath(\"//div[@class='_3Ay6Sb']//span\")\n",
    "\n",
    "\n",
    "for i in brand:\n",
    "    name=i.text\n",
    "    Brand.append(name)\n",
    "    \n",
    "for i in product:\n",
    "    prod=i.text\n",
    "    Product_Description.append(prod)\n",
    "\n",
    "for i in product_des:\n",
    "    pro=i.text\n",
    "    Product_Description.append(pro)\n",
    "    \n",
    "    \n",
    "for i in price:\n",
    "    pri=i.text\n",
    "    Price.append(pri)\n",
    "    \n",
    "for i in discount:\n",
    "    disc=i.text\n",
    "    Discount.append(disc)\n",
    "    \n",
    " "
   ]
  },
  {
   "cell_type": "code",
   "execution_count": 195,
   "metadata": {},
   "outputs": [],
   "source": [
    "driver.find_element_by_xpath(\"//a[@class='_1LKTO3']\").click()"
   ]
  },
  {
   "cell_type": "code",
   "execution_count": 197,
   "metadata": {},
   "outputs": [],
   "source": [
    "brand=driver.find_elements_by_xpath(\"//div[@class='_2WkVRV']\")\n",
    "product=driver.find_elements_by_xpath(\"//a[@class='IRpwTa _2-ICcC']\")\n",
    "product_des=driver.find_elements_by_xpath(\"//a[@class='IRpwTa']\")\n",
    "price=driver.find_elements_by_xpath(\"//div[@class='_30jeq3']\")\n",
    "discount=driver.find_elements_by_xpath(\"//div[@class='_3Ay6Sb']//span\")\n",
    "\n",
    "\n",
    "for i in brand:\n",
    "    name=i.text\n",
    "    Brand.append(name)\n",
    "    \n",
    "for i in product:\n",
    "    prod=i.text\n",
    "    Product_Description.append(prod)\n",
    "\n",
    "for i in product_des:\n",
    "    pro=i.text\n",
    "    Product_Description.append(pro)\n",
    "    \n",
    "    \n",
    "for i in price:\n",
    "    pri=i.text\n",
    "    Price.append(pri)\n",
    "    \n",
    "for i in discount:\n",
    "    disc=i.text\n",
    "    Discount.append(disc)\n",
    "    \n",
    " "
   ]
  },
  {
   "cell_type": "code",
   "execution_count": 198,
   "metadata": {},
   "outputs": [],
   "source": [
    "driver.find_element_by_xpath(\"//a[@class='_1LKTO3']\").click()"
   ]
  },
  {
   "cell_type": "code",
   "execution_count": 199,
   "metadata": {},
   "outputs": [],
   "source": [
    "brand=driver.find_elements_by_xpath(\"//div[@class='_2WkVRV']\")\n",
    "product=driver.find_elements_by_xpath(\"//a[@class='IRpwTa _2-ICcC']\")\n",
    "product_des=driver.find_elements_by_xpath(\"//a[@class='IRpwTa']\")\n",
    "price=driver.find_elements_by_xpath(\"//div[@class='_30jeq3']\")\n",
    "discount=driver.find_elements_by_xpath(\"//div[@class='_3Ay6Sb']//span\")\n",
    "\n",
    "\n",
    "for i in brand:\n",
    "    name=i.text\n",
    "    Brand.append(name)\n",
    "    \n",
    "for i in product:\n",
    "    prod=i.text\n",
    "    Product_Description.append(prod)\n",
    "\n",
    "for i in product_des:\n",
    "    pro=i.text\n",
    "    Product_Description.append(pro)\n",
    "    \n",
    "    \n",
    "for i in price:\n",
    "    pri=i.text\n",
    "    Price.append(pri)\n",
    "    \n",
    "for i in discount:\n",
    "    disc=i.text\n",
    "    Discount.append(disc)\n",
    "    \n",
    " "
   ]
  },
  {
   "cell_type": "code",
   "execution_count": 200,
   "metadata": {},
   "outputs": [
    {
     "data": {
      "text/plain": [
       "['Sparx',\n",
       " 'Sparx',\n",
       " 'Chevit',\n",
       " 'Chevit',\n",
       " 'Shoes Bank',\n",
       " 'World Wear Footwear',\n",
       " 'Deny Brown',\n",
       " 'Sparx',\n",
       " 'Rockfield',\n",
       " 'Chevit',\n",
       " 'Robbie jones',\n",
       " 'Sparx',\n",
       " 'World Wear Footwear',\n",
       " 'Chevit',\n",
       " 'Red Rose',\n",
       " 'Rising Wolf',\n",
       " 'Oricum',\n",
       " 'Restinfoot',\n",
       " 'Hotstyle',\n",
       " 'Sparx',\n",
       " 'D-SNEAKERZ',\n",
       " 'Chevit',\n",
       " 'Stefano Rads',\n",
       " 'Sparx',\n",
       " 'World Wear Footwear',\n",
       " 'Chevit',\n",
       " 'Rockfield',\n",
       " 'Rockfield',\n",
       " 'Oricum',\n",
       " 'RODDICK',\n",
       " 'Essence',\n",
       " 'Sparx',\n",
       " 'Red Rose',\n",
       " 'T-Rock',\n",
       " 'World Wear Footwear',\n",
       " 'trendy street',\n",
       " 'Magnolia',\n",
       " 'T-ROCK',\n",
       " 'DIGITRENDZZ',\n",
       " 'Sparx',\n",
       " 'DIGITRENDZZ',\n",
       " 'Axter',\n",
       " 'Rockfield',\n",
       " 'Sparx',\n",
       " 'ZOVIM',\n",
       " 'Sparx',\n",
       " 'Believe',\n",
       " 'Sparx',\n",
       " 'Maisa',\n",
       " 'Rockfield',\n",
       " 'Tying',\n",
       " 'Sparx',\n",
       " 'LeatherKraft',\n",
       " 'ADIDAS',\n",
       " 'Asian',\n",
       " 'Sparx',\n",
       " 'GANPATI TRADERS',\n",
       " 'Camfoot',\n",
       " 'Absolute comfort',\n",
       " 'Rising Wolf',\n",
       " 'Axter',\n",
       " 'M7 By Metronaut',\n",
       " 'Essence',\n",
       " 'Sparx',\n",
       " 'Kraasa',\n",
       " 'URBANBOX',\n",
       " 'Shoefly',\n",
       " 'Black Bottom',\n",
       " 'Puma',\n",
       " 'Rockfield',\n",
       " 'BRUTON',\n",
       " 'Tying',\n",
       " 'Earton',\n",
       " 'Sparx',\n",
       " 'SCATCHITE',\n",
       " 'HOCKWOOD',\n",
       " 'Rockfield',\n",
       " 'Shoefly',\n",
       " 'Chevit',\n",
       " 'Sparx',\n",
       " 'DIGITRENDZZ',\n",
       " 'Axter',\n",
       " 'Rockfield',\n",
       " 'Sparx',\n",
       " 'ZOVIM',\n",
       " 'Sparx',\n",
       " 'Believe',\n",
       " 'Sparx',\n",
       " 'Maisa',\n",
       " 'Rockfield',\n",
       " 'Tying',\n",
       " 'Sparx',\n",
       " 'LeatherKraft',\n",
       " 'ADIDAS',\n",
       " 'Asian',\n",
       " 'Sparx',\n",
       " 'GANPATI TRADERS',\n",
       " 'Camfoot',\n",
       " 'Absolute comfort',\n",
       " 'Rising Wolf']"
      ]
     },
     "execution_count": 200,
     "metadata": {},
     "output_type": "execute_result"
    }
   ],
   "source": [
    "Brand[:100]"
   ]
  },
  {
   "cell_type": "code",
   "execution_count": 201,
   "metadata": {},
   "outputs": [
    {
     "data": {
      "text/plain": [
       "['Casual Sneakers Shoes For Men Sneakers For Men',\n",
       " 'Sneakers For Men',\n",
       " 'Sneakers For Men',\n",
       " 'Classy Sneakers For Men',\n",
       " 'Canvas high tops sneakers Sneakers For Men',\n",
       " 'Mesh Casual Stylish Partywear Casaul Shoes For Mens And...',\n",
       " 'SM-282 Sneakers For Men',\n",
       " 'Canvas Casual Partywear Outdoor Sneakers Shoes For Mens...',\n",
       " 'Combo Pack of 4 Casual Sneakers With Sneakers For Men',\n",
       " '171 Smart Tan Lace-Ups Casuals for Men Sneakers For Men',\n",
       " \"White Sneaker For Men's/Boy's Sneakers For Men\",\n",
       " 'Combo Pack of 4 Latest Collection Stylish Casual Loafer...',\n",
       " '445 Sports Shoes Sneakers For Men',\n",
       " 'SM-283 Sneakers For Men',\n",
       " 'Sneakers For Men',\n",
       " '170 Smart Grey Lace-Ups Casuals for Men Sneakers For Me...',\n",
       " 'SM-322 Sneakers For Men',\n",
       " '5011-Latest Collection Stylish Casual Loafer Sneakers S...',\n",
       " '168 Smart Red Lace-Ups Casuals for Men Sneakers For Men',\n",
       " 'Sneakers For Men',\n",
       " 'ORIFWSH(OR)-1077 Sneakers For Men',\n",
       " 'Casual shoes Sneakers For Men',\n",
       " 'SM-322 Sneakers For Men',\n",
       " \"Casual , Partywear Sneakers Shoes For Men's And Boys Wh...\",\n",
       " 'Lightweight Combo Pack of 02 Trendy Sneakers Casuals Fo...',\n",
       " 'Sneakers For Men',\n",
       " 'Men-1227 Casual Loafer Sneakers Shoes Sneakers For Men',\n",
       " 'Smart Casuals Canvas Shoes Combo pack of 2 Sneakers For...',\n",
       " 'Sneakers For Men',\n",
       " 'Sneakers For Men',\n",
       " 'Combo pack of 2 casual sneaker shoes for men Sneakers F...',\n",
       " 'Sneakers For Men',\n",
       " 'Sneakers For Men',\n",
       " 'Men SM-461 Camel Sneakers For Men',\n",
       " 'Sneakers For Men',\n",
       " 'Synthetic Leather Casual Partywear Wedding Sneakers Sho...',\n",
       " 'Men 5014 Latest Collection Stylish Casual Sports Loafer...',\n",
       " 'White Sneakers Sneakers For Men',\n",
       " 'Sneakers For Men',\n",
       " 'SM-322 Sneakers For Men',\n",
       " 'WHITE FEETA Sneakers For Men',\n",
       " 'Sneakers For Men',\n",
       " 'COMBO-(2)-RWT Sneakers For Men',\n",
       " 'Sneakers For Men',\n",
       " 'STYLISH-WHITE-9 Sneakers For Men',\n",
       " 'Street Smart Sneakers For Men',\n",
       " 'Sneakers For Men',\n",
       " 'Combo Pack of 2 Casual Loafer Sneakers Shoes Sneakers F...',\n",
       " 'Sneakers For Men',\n",
       " 'SM-282 Sneakers For Men',\n",
       " 'jeans shoes for men Sneakers For Men',\n",
       " 'SM-439 Sneakers For Men',\n",
       " 'Sneakers for men(black_7) Sneakers For Men',\n",
       " 'Canvas Casual Partywear Outdoor Sneakers Shoes For Mens...',\n",
       " 'Sneakers For Men',\n",
       " 'Combo Pack of 2 New Fashion Casual Loafers Sneakers Sne...',\n",
       " 'SM-283 Sneakers For Men',\n",
       " 'Sneakers For Men',\n",
       " 'EASY VULC 2.0 Sneakers For Men',\n",
       " 'Skypy-31 Walking Shoes,Training Shoes,Sneakers,Loafers,...',\n",
       " 'SM-322 Sneakers For Men',\n",
       " 'Combo Pack of 2 Latest Collection Stylish Casual Shoes ...',\n",
       " 'Combo Pack of 2 Latest Collection Stylish Casual Loafer...',\n",
       " 'Sneakers For Men',\n",
       " 'Sneakers For Men',\n",
       " 'SM-322 Sneakers For Men',\n",
       " 'Casuals, Canvas, Partywear Sneakers For Men',\n",
       " 'Combo Men Pack of 2 Loafers Shoes Sneakers For Men',\n",
       " 'Fashion Outdoor Canvas Casual Light Weight Partywear Sn...',\n",
       " 'Electron Street Eng Mesh Sneakers For Men',\n",
       " 'Sneakers For Men',\n",
       " 'Combo Pack Of 3 Loafer Shoes Sneakers For Men',\n",
       " 'Combo Pack of 2 New Fashion Casual Loafers Sneakers Sne...',\n",
       " 'Combo pack of 2 casual, and shoes for men Sneakers For ...',\n",
       " 'Sneakers For Men',\n",
       " 'Sneakers Sneakers For Men',\n",
       " 'Sneakers For Men',\n",
       " 'Combo Men Pack of 2 Loafers Shoes Sneakers For Men',\n",
       " '169 Smart Sky Blue Lace-Ups Casuals for Men Sneakers Fo...',\n",
       " 'Men SM-461 Camel Sneakers For Men',\n",
       " 'WHITE FEETA Sneakers For Men',\n",
       " 'Sneakers For Men',\n",
       " 'COMBO-(2)-RWT Sneakers For Men',\n",
       " 'Sneakers For Men',\n",
       " 'STYLISH-WHITE-9 Sneakers For Men',\n",
       " 'Street Smart Sneakers For Men',\n",
       " 'Sneakers For Men',\n",
       " 'Combo Pack of 2 Casual Loafer Sneakers Shoes Sneakers F...',\n",
       " 'Sneakers For Men',\n",
       " 'SM-282 Sneakers For Men',\n",
       " 'jeans shoes for men Sneakers For Men',\n",
       " 'SM-439 Sneakers For Men',\n",
       " 'Sneakers for men(black_7) Sneakers For Men',\n",
       " 'Canvas Casual Partywear Outdoor Sneakers Shoes For Mens...',\n",
       " 'Sneakers For Men',\n",
       " 'Combo Pack of 2 New Fashion Casual Loafers Sneakers Sne...',\n",
       " 'SM-283 Sneakers For Men',\n",
       " 'Sneakers For Men',\n",
       " 'EASY VULC 2.0 Sneakers For Men',\n",
       " 'Skypy-31 Walking Shoes,Training Shoes,Sneakers,Loafers,...']"
      ]
     },
     "execution_count": 201,
     "metadata": {},
     "output_type": "execute_result"
    }
   ],
   "source": [
    "Product_Description[:100]"
   ]
  },
  {
   "cell_type": "code",
   "execution_count": 202,
   "metadata": {},
   "outputs": [
    {
     "data": {
      "text/plain": [
       "['₹999',\n",
       " '₹674',\n",
       " '₹579',\n",
       " '₹236',\n",
       " '₹349',\n",
       " '₹589',\n",
       " '₹379',\n",
       " '₹672',\n",
       " '₹399',\n",
       " '₹236',\n",
       " '₹379',\n",
       " '₹840',\n",
       " '₹240',\n",
       " '₹236',\n",
       " '₹399',\n",
       " '₹539',\n",
       " '₹214',\n",
       " '₹349',\n",
       " '₹211',\n",
       " '₹769',\n",
       " '₹370',\n",
       " '₹570',\n",
       " '₹279',\n",
       " '₹730',\n",
       " '₹199',\n",
       " '₹399',\n",
       " '₹439',\n",
       " '₹448',\n",
       " '₹419',\n",
       " '₹399',\n",
       " '₹374',\n",
       " '₹807',\n",
       " '₹399',\n",
       " '₹399',\n",
       " '₹240',\n",
       " '₹799',\n",
       " '₹330',\n",
       " '₹379',\n",
       " '₹379',\n",
       " '₹879',\n",
       " '₹379',\n",
       " '₹379',\n",
       " '₹499',\n",
       " '₹999',\n",
       " '₹420',\n",
       " '₹699',\n",
       " '₹426',\n",
       " '₹674',\n",
       " '₹284',\n",
       " '₹426',\n",
       " '₹498',\n",
       " '₹672',\n",
       " '₹299',\n",
       " '₹1,329',\n",
       " '₹473',\n",
       " '₹840',\n",
       " '₹199',\n",
       " '₹328',\n",
       " '₹367',\n",
       " '₹539',\n",
       " '₹427',\n",
       " '₹610',\n",
       " '₹374',\n",
       " '₹769',\n",
       " '₹424',\n",
       " '₹199',\n",
       " '₹362',\n",
       " '₹463',\n",
       " '₹1,899',\n",
       " '₹448',\n",
       " '₹474',\n",
       " '₹525',\n",
       " '₹498',\n",
       " '₹730',\n",
       " '₹419',\n",
       " '₹692',\n",
       " '₹449',\n",
       " '₹299',\n",
       " '₹240',\n",
       " '₹807',\n",
       " '₹379',\n",
       " '₹379',\n",
       " '₹499',\n",
       " '₹999',\n",
       " '₹420',\n",
       " '₹699',\n",
       " '₹426',\n",
       " '₹674',\n",
       " '₹284',\n",
       " '₹426',\n",
       " '₹498',\n",
       " '₹672',\n",
       " '₹299',\n",
       " '₹1,329',\n",
       " '₹473',\n",
       " '₹840',\n",
       " '₹199',\n",
       " '₹328',\n",
       " '₹367',\n",
       " '₹539']"
      ]
     },
     "execution_count": 202,
     "metadata": {},
     "output_type": "execute_result"
    }
   ],
   "source": [
    "Price[:100]"
   ]
  },
  {
   "cell_type": "code",
   "execution_count": 203,
   "metadata": {},
   "outputs": [
    {
     "data": {
      "text/plain": [
       "['23% off',\n",
       " '10% off',\n",
       " '70% off',\n",
       " '52% off',\n",
       " '65% off',\n",
       " '70% off',\n",
       " '24% off',\n",
       " '15% off',\n",
       " '60% off',\n",
       " '52% off',\n",
       " '62% off',\n",
       " '15% off',\n",
       " '51% off',\n",
       " '52% off',\n",
       " '60% off',\n",
       " '73% off',\n",
       " '57% off',\n",
       " '65% off',\n",
       " '57% off',\n",
       " '23% off',\n",
       " '43% off',\n",
       " '42% off',\n",
       " '81% off',\n",
       " '23% off',\n",
       " '60% off',\n",
       " '60% off',\n",
       " '56% off',\n",
       " '55% off',\n",
       " '58% off',\n",
       " '60% off',\n",
       " '62% off',\n",
       " '23% off',\n",
       " '20% off',\n",
       " '60% off',\n",
       " '51% off',\n",
       " '27% off',\n",
       " '66% off',\n",
       " '62% off',\n",
       " '62% off',\n",
       " '12% off',\n",
       " '62% off',\n",
       " '62% off',\n",
       " '50% off',\n",
       " '23% off',\n",
       " '57% off',\n",
       " '57% off',\n",
       " '10% off',\n",
       " '52% off',\n",
       " '57% off',\n",
       " '50% off',\n",
       " '15% off',\n",
       " '70% off',\n",
       " '65% off',\n",
       " '21% off',\n",
       " '15% off',\n",
       " '60% off',\n",
       " '67% off',\n",
       " '63% off',\n",
       " '73% off',\n",
       " '57% off',\n",
       " '59% off',\n",
       " '62% off',\n",
       " '23% off',\n",
       " '57% off',\n",
       " '60% off',\n",
       " '63% off',\n",
       " '53% off',\n",
       " '62% off',\n",
       " '55% off',\n",
       " '83% off',\n",
       " '47% off',\n",
       " '50% off',\n",
       " '23% off',\n",
       " '58% off',\n",
       " '30% off',\n",
       " '55% off',\n",
       " '70% off',\n",
       " '51% off',\n",
       " '23% off',\n",
       " '62% off',\n",
       " '62% off',\n",
       " '50% off',\n",
       " '23% off',\n",
       " '57% off',\n",
       " '57% off',\n",
       " '10% off',\n",
       " '52% off',\n",
       " '57% off',\n",
       " '50% off',\n",
       " '15% off',\n",
       " '70% off',\n",
       " '65% off',\n",
       " '21% off',\n",
       " '15% off',\n",
       " '60% off',\n",
       " '67% off',\n",
       " '63% off',\n",
       " '73% off',\n",
       " '57% off',\n",
       " '59% off']"
      ]
     },
     "execution_count": 203,
     "metadata": {},
     "output_type": "execute_result"
    }
   ],
   "source": [
    "Discount[:100]"
   ]
  },
  {
   "cell_type": "markdown",
   "metadata": {},
   "source": [
    "### 9. Scrape First 100 shoes data you get from Myntra.com"
   ]
  },
  {
   "cell_type": "code",
   "execution_count": 204,
   "metadata": {},
   "outputs": [],
   "source": [
    "import selenium\n",
    "from selenium import webdriver"
   ]
  },
  {
   "cell_type": "code",
   "execution_count": 205,
   "metadata": {},
   "outputs": [],
   "source": [
    "driver=webdriver.Chrome(r\"C:\\Users\\eshan\\Downloads\\chromedriver_win32\\chromedriver.exe\")"
   ]
  },
  {
   "cell_type": "code",
   "execution_count": 206,
   "metadata": {},
   "outputs": [],
   "source": [
    "url=\"https://www.myntra.com/shoes?f=Color%3ABlack_36454f&plaEnabled=false&rf=Price%3A6619.0_13079.0_6619.0%20TO%2013079.0\""
   ]
  },
  {
   "cell_type": "code",
   "execution_count": 207,
   "metadata": {},
   "outputs": [],
   "source": [
    "driver.get(url)"
   ]
  },
  {
   "cell_type": "code",
   "execution_count": 208,
   "metadata": {},
   "outputs": [],
   "source": [
    "Brand=[]\n",
    "Short_Shoe_description=[]\n",
    "Price=[]"
   ]
  },
  {
   "cell_type": "code",
   "execution_count": 209,
   "metadata": {},
   "outputs": [],
   "source": [
    "brand=driver.find_elements_by_xpath(\"//h3[@class='product-brand']\")\n",
    "shoe_description=driver.find_elements_by_xpath(\"//h4[@class='product-product']\")\n",
    "price=driver.find_elements_by_xpath(\"//div[@class='product-price']//span\")\n",
    "\n",
    "\n",
    "for i in brand:\n",
    "    name=i.text\n",
    "    Brand.append(name)\n",
    "    \n",
    "for i in shoe_description:\n",
    "    shoe=i.text\n",
    "    Short_Shoe_description.append(shoe)\n",
    "    \n",
    "for i in price:\n",
    "    pri=i.text\n",
    "    Price.append(pri)\n",
    "    \n",
    "    \n",
    " "
   ]
  },
  {
   "cell_type": "code",
   "execution_count": 210,
   "metadata": {},
   "outputs": [],
   "source": [
    "driver.find_element_by_xpath(\"//li[@class='pagination-next']/a\").click()"
   ]
  },
  {
   "cell_type": "code",
   "execution_count": 211,
   "metadata": {},
   "outputs": [],
   "source": [
    "brand=driver.find_elements_by_xpath(\"//h3[@class='product-brand']\")\n",
    "shoe_description=driver.find_elements_by_xpath(\"//h4[@class='product-product']\")\n",
    "price=driver.find_elements_by_xpath(\"//div[@class='product-price']//span\")\n",
    "\n",
    "\n",
    "for i in brand:\n",
    "    name=i.text\n",
    "    Brand.append(name)\n",
    "    \n",
    "for i in shoe_description:\n",
    "    shoe=i.text\n",
    "    Short_Shoe_description.append(shoe)\n",
    "    \n",
    "for i in price:\n",
    "    pri=i.text\n",
    "    Price.append(pri)\n",
    "    \n",
    "    \n",
    " "
   ]
  },
  {
   "cell_type": "code",
   "execution_count": 212,
   "metadata": {},
   "outputs": [
    {
     "data": {
      "text/plain": [
       "['ADIDAS Originals',\n",
       " 'Puma',\n",
       " 'KIPRUN By Decathlon',\n",
       " 'ADIDAS Originals',\n",
       " 'Puma',\n",
       " 'Puma',\n",
       " 'Geox',\n",
       " 'Geox',\n",
       " 'Geox',\n",
       " 'ALDO',\n",
       " 'Nike',\n",
       " 'Puma',\n",
       " 'Nike',\n",
       " 'ADIDAS Originals',\n",
       " 'ADIDAS Originals',\n",
       " 'Nike',\n",
       " 'Cole Haan',\n",
       " 'Nike',\n",
       " 'Nike',\n",
       " 'Geox',\n",
       " 'Geox',\n",
       " 'Nike',\n",
       " 'Puma',\n",
       " 'Geox',\n",
       " 'Geox',\n",
       " 'ADIDAS',\n",
       " 'ADIDAS Originals',\n",
       " 'ADIDAS Originals',\n",
       " 'ADIDAS Originals',\n",
       " 'Puma',\n",
       " 'UNDER ARMOUR',\n",
       " 'ADIDAS Originals',\n",
       " 'Geox',\n",
       " 'Cole Haan',\n",
       " 'Nike',\n",
       " 'Cole Haan',\n",
       " 'Geox',\n",
       " 'UNDER ARMOUR',\n",
       " 'ADIDAS Originals',\n",
       " 'Saint G',\n",
       " 'ADIDAS',\n",
       " 'Hush Puppies',\n",
       " 'ADIDAS Originals',\n",
       " 'Geox',\n",
       " 'ADIDAS',\n",
       " 'ADIDAS',\n",
       " 'Nike',\n",
       " 'UNDER ARMOUR',\n",
       " 'ADIDAS Originals',\n",
       " 'ADIDAS Originals',\n",
       " 'ALDO',\n",
       " 'Cole Haan',\n",
       " 'Geox',\n",
       " 'ADIDAS Originals',\n",
       " 'ADIDAS Originals',\n",
       " 'ADIDAS Originals',\n",
       " 'ADIDAS Originals',\n",
       " 'ADIDAS Originals',\n",
       " 'Nike',\n",
       " 'FILA',\n",
       " 'Puma',\n",
       " 'Nike',\n",
       " 'Nike',\n",
       " 'ADIDAS Originals',\n",
       " 'Saint G',\n",
       " 'Geox',\n",
       " 'ADIDAS Originals',\n",
       " 'Puma',\n",
       " 'ADIDAS',\n",
       " 'Cole Haan',\n",
       " 'ADIDAS Originals',\n",
       " 'ADIDAS Originals',\n",
       " 'ADIDAS Originals',\n",
       " 'Geox',\n",
       " 'UNDER ARMOUR',\n",
       " 'Geox',\n",
       " 'ADIDAS Originals',\n",
       " 'ADIDAS Originals',\n",
       " 'Puma',\n",
       " 'Geox',\n",
       " 'Geox',\n",
       " 'ADIDAS Originals',\n",
       " 'Geox',\n",
       " 'Geox',\n",
       " 'Cole Haan',\n",
       " 'ADIDAS Originals',\n",
       " 'ADIDAS Originals',\n",
       " 'Geox',\n",
       " 'Cole Haan',\n",
       " 'ADIDAS Originals',\n",
       " 'Geox',\n",
       " 'Nike',\n",
       " 'Reebok',\n",
       " 'ADIDAS Originals',\n",
       " 'Hush Puppies',\n",
       " 'Tommy Hilfiger',\n",
       " 'Geox',\n",
       " 'ADIDAS Originals',\n",
       " 'Geox',\n",
       " 'UNDER ARMOUR']"
      ]
     },
     "execution_count": 212,
     "metadata": {},
     "output_type": "execute_result"
    }
   ],
   "source": [
    "Brand[:100]"
   ]
  },
  {
   "cell_type": "code",
   "execution_count": 213,
   "metadata": {},
   "outputs": [
    {
     "data": {
      "text/plain": [
       "['Men NMD_R1 Wide Fit Sneakers',\n",
       " 'Men HYBRID NETFIT Running Shoe',\n",
       " 'Men Running Shoes',\n",
       " 'Men Woven Design XPLR Sneakers',\n",
       " 'Unisex Sneakers',\n",
       " 'Men Running Shoes',\n",
       " 'Men Leather Loafers',\n",
       " 'Women Leather Mid-Top Boots',\n",
       " 'Men Mid-Top Sneakers',\n",
       " 'Men Leather Loafers',\n",
       " 'Men AIR ZOOM Running Shoes',\n",
       " 'Unisex RS-2K Sneakers',\n",
       " 'ZOOM FREAK 2 Basketball Shoes',\n",
       " 'Men Ozweego Sneakers',\n",
       " 'Leather Superstar Sneakers',\n",
       " 'Unisex PHANTOM Football Shoes',\n",
       " 'Men Wingtip Oxford Sneakers',\n",
       " 'ZOOM GRAVITY 2 Running Shoes',\n",
       " 'Men Running Shoes',\n",
       " 'Men Leather Formal Derbys',\n",
       " 'Men Leather Driving Shoes',\n",
       " 'Men KD13 EP Basketball Shoes',\n",
       " 'Men SPEED 500 2 Running Shoes',\n",
       " 'Men Leather Mid-Top Brogues',\n",
       " 'Women Leather Flat Boots',\n",
       " 'Men Mid Top Pro Next 2019 Shoe',\n",
       " 'Men Leather Superstar Sneakers',\n",
       " 'Men Superstar Sneakers',\n",
       " 'Women Sonkei Sneakers',\n",
       " 'Men Running Shoes',\n",
       " 'Men Charged Impulse Knit',\n",
       " 'Men Yung- 1 Sneakers',\n",
       " 'Women Leather Slip-Ons',\n",
       " 'Men GENERATION ZEROGRAND STITCHLITE',\n",
       " 'Women AIR ZOOM Running Shoes',\n",
       " 'Leather Sneakers',\n",
       " 'Men Leather Driving Shoes',\n",
       " 'Men HOVR STRT Sportstyle Shoes',\n",
       " 'Men SEELEY Skate Shoes',\n",
       " 'Women Heeled Boots',\n",
       " 'Harden Stepback Basketball',\n",
       " 'Men Solid Leather Formal Slip-Ons',\n",
       " 'Men Deerupt Running Shoes',\n",
       " 'Men Solid Leather Sneakers',\n",
       " 'Men Printed SL20 Running Shoes',\n",
       " 'Solar Drive 19 Running Shoes',\n",
       " 'Men Basketball Shoes',\n",
       " 'Men Speedfit 2.0 Hiking',\n",
       " 'Men Yung 96 Trail Sneakers',\n",
       " 'Men Nite Jogger Fluid Sneakers',\n",
       " 'Women Solid Sneakers',\n",
       " 'Women Leather Loafers',\n",
       " 'Women Woven Design Slip-On Sneakers',\n",
       " 'Men ZX 750 HD Sneakers',\n",
       " 'Men Yung 96 Trail Sneakers',\n",
       " 'Men NMD R1 Sneakers',\n",
       " 'Women Swift Run Sneakers',\n",
       " 'Men Superstar Sneakers',\n",
       " 'Unisex PHANTOM Football Shoes',\n",
       " 'Women Printed Sneakers',\n",
       " 'Men HYBRID Ozone Running Shoes',\n",
       " 'Men Basketball Shoes',\n",
       " 'Men DBREAK-TYPE Sneakers',\n",
       " 'Men Haiwee Sneakers',\n",
       " 'Women Heeled Boots',\n",
       " 'Men Leather Formal Derbys',\n",
       " 'Women POD-S3.1 Sneakers',\n",
       " 'Women UltraRide Running Shoes',\n",
       " 'Men Pro Next 2019 Basketball',\n",
       " 'Women Leather Open Toe Flats',\n",
       " 'Men Suede Sneakers',\n",
       " 'Women Sleek Z Sneakers',\n",
       " 'Women Sleek Super Sneakers',\n",
       " 'Men Leather Sneakers',\n",
       " 'HOVR Sonic 3 Running Shoes',\n",
       " 'Women Leather Flat Boots',\n",
       " 'Men Haiwee Sneakers',\n",
       " 'Men HAIWEE Sneakers',\n",
       " 'Unisex Running Shoes',\n",
       " 'Men Solid Leather Sneakers',\n",
       " 'Men Leather Formal Derbys',\n",
       " 'Women Falcon Sneakers',\n",
       " 'Men Leather Formal Slip-Ons',\n",
       " 'Women Slip-On Sneakers',\n",
       " 'Women Open Toe Flats',\n",
       " 'Men Nite Jogger Fluid Sneakers',\n",
       " 'Men Solid Superstar MG Sneaker',\n",
       " 'Women Sequinned Sneakers',\n",
       " 'Women Sneakers',\n",
       " 'Men YUNG-1 Sneakers',\n",
       " 'Men Leather Formal Oxfords',\n",
       " 'Men Running Shoes',\n",
       " 'Forever Floatride Energy 2',\n",
       " 'Men Ozweego Sneakers',\n",
       " 'Men Solid Leather Formal Slip-Ons',\n",
       " 'Women Solid Sneakers',\n",
       " 'Women Leather Mid-Top Boots',\n",
       " 'Men Woven Design XPLR Sneakers',\n",
       " 'Men Suede Driving Shoes',\n",
       " 'Charged Bandit 5 Running Shoes']"
      ]
     },
     "execution_count": 213,
     "metadata": {},
     "output_type": "execute_result"
    }
   ],
   "source": [
    "Short_Shoe_description[:100]"
   ]
  },
  {
   "cell_type": "code",
   "execution_count": 214,
   "metadata": {},
   "outputs": [
    {
     "data": {
      "text/plain": [
       "['Rs. 9749Rs. 12999',\n",
       " 'Rs. 9749',\n",
       " 'Rs. 12999',\n",
       " '(25% OFF)',\n",
       " 'Rs. 10999',\n",
       " 'Rs. 7499',\n",
       " 'Rs. 7599',\n",
       " 'Rs. 9999',\n",
       " 'Rs. 6999',\n",
       " 'Rs. 10990',\n",
       " 'Rs. 11999',\n",
       " 'Rs. 10999',\n",
       " 'Rs. 12999',\n",
       " 'Rs. 11995',\n",
       " 'Rs. 9999',\n",
       " 'Rs. 10295',\n",
       " 'Rs. 10999',\n",
       " 'Rs. 7999',\n",
       " 'Rs. 8495',\n",
       " 'Rs. 12999',\n",
       " 'Rs. 8195',\n",
       " 'Rs. 7995',\n",
       " 'Rs. 12990',\n",
       " 'Rs. 9999',\n",
       " 'Rs. 12995',\n",
       " 'Rs. 7999Rs. 9999',\n",
       " 'Rs. 7999',\n",
       " 'Rs. 9999',\n",
       " '(20% OFF)',\n",
       " 'Rs. 11999',\n",
       " 'Rs. 12999',\n",
       " 'Rs. 6999',\n",
       " 'Rs. 8999',\n",
       " 'Rs. 7999',\n",
       " 'Rs. 7999',\n",
       " 'Rs. 6749Rs. 8999',\n",
       " 'Rs. 6749',\n",
       " 'Rs. 8999',\n",
       " '(25% OFF)',\n",
       " 'Rs. 7649Rs. 8999',\n",
       " 'Rs. 7649',\n",
       " 'Rs. 8999',\n",
       " '(15% OFF)',\n",
       " 'Rs. 10999',\n",
       " 'Rs. 8990',\n",
       " 'Rs. 11999',\n",
       " 'Rs. 9995',\n",
       " 'Rs. 10999',\n",
       " 'Rs. 7999',\n",
       " 'Rs. 9999',\n",
       " 'Rs. 6999',\n",
       " 'Rs. 9676Rs. 11800',\n",
       " 'Rs. 9676',\n",
       " 'Rs. 11800',\n",
       " '(Rs. 2124 OFF)',\n",
       " 'Rs. 6749Rs. 8999',\n",
       " 'Rs. 6749',\n",
       " 'Rs. 8999',\n",
       " '(25% OFF)',\n",
       " 'Rs. 8999',\n",
       " 'Rs. 8999',\n",
       " 'Rs. 11999',\n",
       " 'Rs. 10999',\n",
       " 'Rs. 8999Rs. 11999',\n",
       " 'Rs. 8999',\n",
       " 'Rs. 11999',\n",
       " '(25% OFF)',\n",
       " 'Rs. 7995',\n",
       " 'Rs. 12999',\n",
       " 'Rs. 10999',\n",
       " 'Rs. 9749Rs. 12999',\n",
       " 'Rs. 9749',\n",
       " 'Rs. 12999',\n",
       " '(25% OFF)',\n",
       " 'Rs. 7999',\n",
       " 'Rs. 12999',\n",
       " 'Rs. 11990',\n",
       " 'Rs. 7999',\n",
       " 'Rs. 10999',\n",
       " 'Rs. 12999',\n",
       " 'Rs. 7999',\n",
       " 'Rs. 8799Rs. 10999',\n",
       " 'Rs. 8799',\n",
       " 'Rs. 10999',\n",
       " '(20% OFF)',\n",
       " 'Rs. 7995',\n",
       " 'Rs. 7999',\n",
       " 'Rs. 7999',\n",
       " 'Rs. 12995',\n",
       " 'Rs. 7995',\n",
       " 'Rs. 7599',\n",
       " 'Rs. 11500',\n",
       " 'Rs. 11490',\n",
       " 'Rs. 11999',\n",
       " 'Rs. 6749Rs. 8999',\n",
       " 'Rs. 6749',\n",
       " 'Rs. 8999',\n",
       " '(25% OFF)',\n",
       " 'Rs. 6999',\n",
       " 'Rs. 12999']"
      ]
     },
     "execution_count": 214,
     "metadata": {},
     "output_type": "execute_result"
    }
   ],
   "source": [
    "Price[:100]"
   ]
  },
  {
   "cell_type": "code",
   "execution_count": 215,
   "metadata": {},
   "outputs": [],
   "source": [
    "driver.close()"
   ]
  },
  {
   "cell_type": "markdown",
   "metadata": {},
   "source": [
    "### 10.Webpage https://www.amazon.in/"
   ]
  },
  {
   "cell_type": "code",
   "execution_count": 216,
   "metadata": {},
   "outputs": [],
   "source": [
    "import selenium\n",
    "from selenium import webdriver\n"
   ]
  },
  {
   "cell_type": "code",
   "execution_count": 217,
   "metadata": {},
   "outputs": [],
   "source": [
    "driver=webdriver.Chrome(r\"C:\\Users\\eshan\\Downloads\\chromedriver_win32\\chromedriver.exe\")"
   ]
  },
  {
   "cell_type": "code",
   "execution_count": 218,
   "metadata": {},
   "outputs": [],
   "source": [
    "url=\"https://www.amazon.in/s?k=Laptops&i=computers&rh=n%3A1375424031%2Cp_n_feature_thirteen_browse-bin%3A12598163031%7C16757432031&dc&qid=1607199996&rnid=12598141031&ref=sr_nr_p_n_feature_thirteen_browse-bin_15\""
   ]
  },
  {
   "cell_type": "code",
   "execution_count": 219,
   "metadata": {},
   "outputs": [],
   "source": [
    "driver.get(url)"
   ]
  },
  {
   "cell_type": "code",
   "execution_count": 220,
   "metadata": {},
   "outputs": [],
   "source": [
    "Title=[]\n",
    "Ratings=[]\n",
    "Price=[]"
   ]
  },
  {
   "cell_type": "code",
   "execution_count": 221,
   "metadata": {},
   "outputs": [],
   "source": [
    "title=driver.find_elements_by_xpath(\"//span[@class='a-size-medium a-color-base a-text-normal']\")\n",
    "rating=driver.find_elements_by_xpath(\"//a[@class='a-popover-trigger a-declarative']/i/span\")\n",
    "price=driver.find_elements_by_xpath(\"//span[@class='a-price-whole']\")\n",
    "\n",
    "for i in title:\n",
    "    name=i.text\n",
    "    Title.append(name)\n",
    "    \n",
    "for i in rating:\n",
    "    rate=i.get_attribute(\"innerText\")\n",
    "    Ratings.append(rate)\n",
    "    \n",
    "for i in price:\n",
    "    pri=i.text\n",
    "    Price.append(pri)\n",
    "    \n",
    " "
   ]
  },
  {
   "cell_type": "code",
   "execution_count": 222,
   "metadata": {},
   "outputs": [
    {
     "data": {
      "text/plain": [
       "['Dell Inspiron 5501 15.6 Inch FHD Laptop (10th Gen i7-1065G7/8 GB/512 SSD/2 GB Nvidia Graphics/Win 10 + MS Office H&S 2019/Silver) D560213WIN9S',\n",
       " '(Renewed) Lenovo ThinkPad High Performance 12.5 inch IPS Panel 1.53 kg Laptop (Core I7 5600U/8 GB(Upto 16GB)/256 GB SSD/Win 10 Pro/Webcam/USB 3.0/SIM/BT/M.2/TPM 2.0 VPro/Integrated Graphics)',\n",
       " 'Dell Inspiron 15 5559 15.6-inch Laptop (Core i7-6500U/8GB/1TB/Windows 10 Home/2GB Graphics), Matte Black',\n",
       " '(Renewed) Dell Latitude E7280 Business 2-in-1 Laptop - Core i7 7th Gen-12.5\" FHD+ IPS Touchscreen- 8 GB DDR4-512 GB SSD-Win 10 Pro/MS Office- Dell Warranty',\n",
       " 'ASUS ROG G703GI-E5148T 17.3-inch FHD 144Hz/3ms Gaming Laptop (8th Gen Intel Core i9-8950HK/64GB/2TB SSHD + 1.5TB NVMe SSD/Windows 10/GTX 1080 8GB Graphics/4.70 Kg), Aluminum',\n",
       " 'Lenovo ThinkPad E14 Intel Core i7 10th Gen14-inch Full HD IPS Thin and Light Laptop (16GB RAM/ 1TB HDD+256GB SSD/ Windows 10 Home/ Microsoft Office Home & Student 2019/ Black/ 1.69kg), 20RAS0AM00',\n",
       " \"(Renewed) Dell Inspiron 3567 Laptop Core i3-7th/6GB/1TB/15.6''/WIN 10 HOME\",\n",
       " '(Renewed) Dell Latitude E7470 14 inch Laptop Core i7 6th Gen/16 GB RAM/512 GB SSD/Windows 10 Pro/MS Office/HD Display/Integrated Graphics)',\n",
       " '(Renewed) Dell Latitude E7240 12.5-inch Laptop (4th Gen Intel Core i5/8GB/512GB SSD/Windows 10/Integrated Graphics), Black',\n",
       " 'ASUS VivoBook Ultra 15 (2020) Intel Core i7-1165G7 11th Gen 15.6-inch FHD Thin and Light Laptop (8GB/512GB NVMe SSD/Integrated Graphics/Windows 10/MS Office 2019/Star Black/1.8 kg), X513EA-EJ732TS']"
      ]
     },
     "execution_count": 222,
     "metadata": {},
     "output_type": "execute_result"
    }
   ],
   "source": [
    "Title[:10]"
   ]
  },
  {
   "cell_type": "code",
   "execution_count": 223,
   "metadata": {},
   "outputs": [
    {
     "data": {
      "text/plain": [
       "['3.6 out of 5 stars',\n",
       " '3.4 out of 5 stars',\n",
       " '3.2 out of 5 stars',\n",
       " '4.0 out of 5 stars',\n",
       " '4.0 out of 5 stars',\n",
       " '3.5 out of 5 stars',\n",
       " '3.6 out of 5 stars',\n",
       " '2.3 out of 5 stars',\n",
       " '5.0 out of 5 stars',\n",
       " '5.0 out of 5 stars']"
      ]
     },
     "execution_count": 223,
     "metadata": {},
     "output_type": "execute_result"
    }
   ],
   "source": [
    "Ratings[:10]"
   ]
  },
  {
   "cell_type": "code",
   "execution_count": 224,
   "metadata": {},
   "outputs": [
    {
     "data": {
      "text/plain": [
       "['84,990',\n",
       " '36,999',\n",
       " '61,000',\n",
       " '51,999',\n",
       " '4,99,990',\n",
       " '79,490',\n",
       " '29,990',\n",
       " '60,599',\n",
       " '39,999',\n",
       " '69,984']"
      ]
     },
     "execution_count": 224,
     "metadata": {},
     "output_type": "execute_result"
    }
   ],
   "source": [
    "Price[:10]"
   ]
  },
  {
   "cell_type": "code",
   "execution_count": 225,
   "metadata": {},
   "outputs": [],
   "source": [
    "driver.close()"
   ]
  },
  {
   "cell_type": "code",
   "execution_count": null,
   "metadata": {},
   "outputs": [],
   "source": []
  }
 ],
 "metadata": {
  "kernelspec": {
   "display_name": "Python 3",
   "language": "python",
   "name": "python3"
  },
  "language_info": {
   "codemirror_mode": {
    "name": "ipython",
    "version": 3
   },
   "file_extension": ".py",
   "mimetype": "text/x-python",
   "name": "python",
   "nbconvert_exporter": "python",
   "pygments_lexer": "ipython3",
   "version": "3.7.6"
  }
 },
 "nbformat": 4,
 "nbformat_minor": 4
}
